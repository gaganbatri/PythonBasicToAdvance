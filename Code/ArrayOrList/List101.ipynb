{
 "cells": [
  {
   "cell_type": "markdown",
   "id": "672dfac4",
   "metadata": {},
   "source": [
    "- A list in Python is a built-in data type that represents an ordered, mutable collection of items.\n",
    "- Lists can contain elements of different data types (e.g., integers, strings, floats, even other lists). \n",
    "- Lists are defined using square brackets [] with elements separated by commas.\n",
    "- List index start with 0. we can also access using negative indexing with opposite order.\n"
   ]
  },
  {
   "cell_type": "markdown",
   "id": "ad05808d-2ad2-4e2b-87ff-223ae036a996",
   "metadata": {
    "vscode": {
     "languageId": "raw"
    }
   },
   "source": [
    "## Different way to create a list."
   ]
  },
  {
   "cell_type": "code",
   "execution_count": 3,
   "id": "a31a9e86-4a4d-40ee-8348-263d9a7b3015",
   "metadata": {
    "vscode": {
     "languageId": "raw"
    }
   },
   "outputs": [
    {
     "name": "stdout",
     "output_type": "stream",
     "text": [
      "mylist: [], type: type[]\n"
     ]
    }
   ],
   "source": [
    "mylist = [] # empty list\n",
    "mylist1 = list() # define using type casting\n",
    "print(f\"mylist: {mylist}, type: type{mylist}\")"
   ]
  },
  {
   "cell_type": "code",
   "execution_count": 5,
   "id": "a5de1df8-fbae-4ddc-a4ce-64108c526bc4",
   "metadata": {
    "vscode": {
     "languageId": "raw"
    }
   },
   "outputs": [
    {
     "name": "stdout",
     "output_type": "stream",
     "text": [
      "numbers: [1, 2, 3, 4, 5], mixed_list: [1, 'hello', 3.14, True, [1, 2]]\n",
      "[[1, 2, 3], [4, 5, 6], [7, 8, 9]]\n"
     ]
    }
   ],
   "source": [
    "# Creating lists\n",
    "numbers = [1, 2, 3, 4, 5]\n",
    "mixed_list = [1, \"hello\", 3.14, True, [1, 2]]\n",
    "print(f\"numbers: {numbers}, mixed_list: {mixed_list}\")\n",
    "nested_list = [[1, 2, 3], [4, 5, 6] ,[7, 8, 9]]\n",
    "print(nested_list)"
   ]
  },
  {
   "cell_type": "markdown",
   "id": "2dc016c3-ba4c-426d-8e92-8dfc97ef5923",
   "metadata": {},
   "source": [
    "## Memory allocation in list"
   ]
  },
  {
   "cell_type": "markdown",
   "id": "42c36ba7-a350-4f17-bd83-315f4a478d57",
   "metadata": {},
   "source": [
    "**Python List Memory Allocation: Growth, Shrinkage & Calculation Details**\n",
    "\n",
    "How Python Lists Allocate Memory\n",
    "Python lists are dynamic arrays made of pointers to objects (not the values themselves).\n",
    "\n",
    "When a list is created, it pre-allocates more space than needed for its elements to minimize frequent resizing. This is called over-allocation.\n",
    "\n",
    "The memory reserved includes the space for:\n",
    "\n",
    "The list \"header\" (internal metadata)\n",
    "\n",
    "Pointers to each element\n",
    "\n",
    "Growth: When Elements Are Added\n",
    "Appends:\n",
    "\n",
    "If you add an item and the pre-allocated space isn't full, Python simply places the new pointer in an empty slot.\n",
    "\n",
    "If you exceed capacity, Python calculates a new, larger size (see formula below), allocates a new memory block, copies the old pointers to it, and adds the new one.\n",
    "\n",
    "Over-Allocation Strategy:\n",
    "\n",
    "For small lists, capacity approximately doubles.\n",
    "\n",
    "For bigger lists, growth is less aggressive (about 1.125x or as per the formula).\n",
    "\n",
    "CPython Growth Formula:\n",
    "When the list grows beyond current capacity:\n",
    "\n",
    "new_size\n",
    "=\n",
    "(\n",
    "current_size\n",
    "+\n",
    "(\n",
    "current_size\n",
    "8\n",
    ")\n",
    "+\n",
    "6\n",
    ")\n",
    " \n",
    "&\n",
    "∼\n",
    "3\n",
    "new_size=(current_size+( \n",
    "8\n",
    "current_size\n",
    " )+6) &∼3\n",
    "Here, current_size is the number of elements AFTER appending.\n",
    "\n",
    "\\& ~3 rounds down to a multiple of four.\n",
    "\n",
    "Example: If the previous length was 16:\n",
    "\n",
    "16\n",
    "+\n",
    "(\n",
    "16\n",
    ">\n",
    ">\n",
    "3\n",
    ")\n",
    "+\n",
    "6\n",
    "=\n",
    "16\n",
    "+\n",
    "2\n",
    "+\n",
    "6\n",
    "=\n",
    "24\n",
    "16+(16>>3)+6=16+2+6=24\n",
    "\n",
    "Round down to nearest multiple of 4 ⇒ 24.\n",
    "\n",
    "Shrinking: When Elements Are Removed\n",
    "Removals (pop, del):\n",
    "\n",
    "Memory is not released instantly. List shrinks only if the active length falls far (e.g., less than half) below capacity.\n",
    "\n",
    "This avoids frequent reallocation (\"churn\")."
   ]
  },
  {
   "cell_type": "code",
   "execution_count": 46,
   "id": "04a6fef6-552f-43d7-8f82-920733553e0f",
   "metadata": {},
   "outputs": [
    {
     "name": "stdout",
     "output_type": "stream",
     "text": [
      "lst size: 88 bytes [0]\n",
      "lst size: 88 bytes [0, 1]\n",
      "lst size: 88 bytes [0, 1, 2]\n",
      "lst size: 88 bytes [0, 1, 2, 3]\n",
      "lst size: 120 bytes [0, 1, 2, 3, 4]\n",
      "lst size: 120 bytes [0, 1, 2, 3, 4, 5]\n",
      "lst size: 120 bytes [0, 1, 2, 3, 4, 5, 6]\n",
      "lst size: 120 bytes [0, 1, 2, 3, 4, 5, 6, 7]\n",
      "lst size: 184 bytes [0, 1, 2, 3, 4, 5, 6, 7, 8]\n",
      "lst size: 184 bytes [0, 1, 2, 3, 4, 5, 6, 7, 8, 9]\n",
      "lst size: 184 bytes [0, 1, 2, 3, 4, 5, 6, 7, 8, 9, 10]\n",
      "lst size: 184 bytes [0, 1, 2, 3, 4, 5, 6, 7, 8, 9, 10, 11]\n",
      "lst size: 184 bytes [0, 1, 2, 3, 4, 5, 6, 7, 8, 9, 10, 11, 12]\n",
      "lst size: 184 bytes [0, 1, 2, 3, 4, 5, 6, 7, 8, 9, 10, 11, 12, 13]\n",
      "lst size: 184 bytes [0, 1, 2, 3, 4, 5, 6, 7, 8, 9, 10, 11, 12, 13, 14]\n",
      "lst size: 184 bytes [0, 1, 2, 3, 4, 5, 6, 7, 8, 9, 10, 11, 12, 13, 14, 15]\n",
      "lst size: 248 bytes [0, 1, 2, 3, 4, 5, 6, 7, 8, 9, 10, 11, 12, 13, 14, 15, 16]\n",
      "lst size: 248 bytes [0, 1, 2, 3, 4, 5, 6, 7, 8, 9, 10, 11, 12, 13, 14, 15, 16, 17]\n",
      "lst size: 248 bytes [0, 1, 2, 3, 4, 5, 6, 7, 8, 9, 10, 11, 12, 13, 14, 15, 16, 17, 18]\n",
      "lst size: 248 bytes [0, 1, 2, 3, 4, 5, 6, 7, 8, 9, 10, 11, 12, 13, 14, 15, 16, 17, 18, 19]\n"
     ]
    }
   ],
   "source": [
    "import sys\n",
    "lst = []\n",
    "sys.getsizeof(lst)  # 56 or 64 bytes typical on 64-bit\n",
    "for i in range(20):\n",
    "    lst.append(i)\n",
    "    print(\"lst size:\", sys.getsizeof(lst), \"bytes\", lst)"
   ]
  },
  {
   "attachments": {
    "image.png": {
     "image/png": "[encoded data removed]"
    }
   },
   "cell_type": "markdown",
   "id": "9871cd7d",
   "metadata": {
    "jp-MarkdownHeadingCollapsed": true
   },
   "source": [
    "## Accessing elements of the list\n",
    "![image.png](attachment:image.png)"
   ]
  },
  {
   "cell_type": "code",
   "execution_count": 8,
   "id": "1598d0b4-26a6-4d4d-b386-145f4a7f0f7c",
   "metadata": {
    "vscode": {
     "languageId": "raw"
    }
   },
   "outputs": [
    {
     "name": "stdout",
     "output_type": "stream",
     "text": [
      "first_item: 1, last_item: 5, subset: [2, 3, 4], reversed: [5, 4, 3, 2, 1]\n"
     ]
    }
   ],
   "source": [
    "numbers = [1, 2, 3, 4, 5]\n",
    "\n",
    "# Accessing elements\n",
    "first_item = numbers[0]  # 1\n",
    "last_item = numbers[-1]  # 5\n",
    "\n",
    "# Slicing\n",
    "subset = numbers[1:4]  # [2, 3, 4]\n",
    "reversed_list = numbers[::-1]  # [5, 4, 3, 2, 1]\n",
    "\n",
    "print(f\"first_item: {first_item}, last_item: {last_item}, subset: {subset}, reversed: {reversed_list}\")"
   ]
  },
  {
   "cell_type": "code",
   "execution_count": 19,
   "id": "79b1ad75-fecf-497b-8d35-a8627d7e1b44",
   "metadata": {},
   "outputs": [
    {
     "data": {
      "text/plain": [
       "[0, 1, 2, 3, 4, 5, 6, 7, 8, 9, 10, 11, 12, 13, 14]"
      ]
     },
     "execution_count": 19,
     "metadata": {},
     "output_type": "execute_result"
    }
   ],
   "source": [
    "numbers = list(range(15))\n",
    "numbers"
   ]
  },
  {
   "cell_type": "code",
   "execution_count": 20,
   "id": "c88db976-b9b4-491f-92c1-80d8da45de88",
   "metadata": {},
   "outputs": [
    {
     "data": {
      "text/plain": [
       "[0, 2, 4, 6, 8, 10, 12, 14]"
      ]
     },
     "execution_count": 20,
     "metadata": {},
     "output_type": "execute_result"
    }
   ],
   "source": [
    "numbers[::2]"
   ]
  },
  {
   "cell_type": "code",
   "execution_count": 22,
   "id": "0394b39f-22f3-4c72-bdec-3c9e526cbb53",
   "metadata": {},
   "outputs": [
    {
     "data": {
      "text/plain": [
       "[14, 12, 10, 8, 6, 4, 2, 0]"
      ]
     },
     "execution_count": 22,
     "metadata": {},
     "output_type": "execute_result"
    }
   ],
   "source": [
    "numbers[::-2]"
   ]
  },
  {
   "cell_type": "code",
   "execution_count": 25,
   "id": "1b4962c0-d153-47ce-94ae-dde8f4a70317",
   "metadata": {},
   "outputs": [
    {
     "data": {
      "text/plain": [
       "[3, 4, 5, 6, 7, 8, 9, 10, 11, 12, 13, 14]"
      ]
     },
     "execution_count": 25,
     "metadata": {},
     "output_type": "execute_result"
    }
   ],
   "source": [
    "numbers[3:]"
   ]
  },
  {
   "cell_type": "code",
   "execution_count": 24,
   "id": "33096333-052b-4115-a523-a3e2d75dc818",
   "metadata": {},
   "outputs": [
    {
     "data": {
      "text/plain": [
       "[13, 14]"
      ]
     },
     "execution_count": 24,
     "metadata": {},
     "output_type": "execute_result"
    }
   ],
   "source": [
    "numbers[-2:]"
   ]
  },
  {
   "cell_type": "code",
   "execution_count": 26,
   "id": "63783ddd-cac7-4c18-88c6-e948ac0ad23b",
   "metadata": {},
   "outputs": [
    {
     "data": {
      "text/plain": [
       "[2, 3, 4, 5, 6, 7, 8, 9, 10, 11, 12]"
      ]
     },
     "execution_count": 26,
     "metadata": {},
     "output_type": "execute_result"
    }
   ],
   "source": [
    "numbers[2:-2]"
   ]
  },
  {
   "cell_type": "code",
   "execution_count": 28,
   "id": "7893bc4d-a2cf-4c5d-97bb-ceb4e80ba41d",
   "metadata": {},
   "outputs": [
    {
     "ename": "IndexError",
     "evalue": "list index out of range",
     "output_type": "error",
     "traceback": [
      "\u001b[31m---------------------------------------------------------------------------\u001b[39m",
      "\u001b[31mIndexError\u001b[39m                                Traceback (most recent call last)",
      "\u001b[36mCell\u001b[39m\u001b[36m \u001b[39m\u001b[32mIn[28]\u001b[39m\u001b[32m, line 1\u001b[39m\n\u001b[32m----> \u001b[39m\u001b[32m1\u001b[39m \u001b[43mnumbers\u001b[49m\u001b[43m[\u001b[49m\u001b[38;5;28;43mlen\u001b[39;49m\u001b[43m(\u001b[49m\u001b[43mnumbers\u001b[49m\u001b[43m)\u001b[49m\u001b[43m+\u001b[49m\u001b[32;43m1\u001b[39;49m\u001b[43m]\u001b[49m\n",
      "\u001b[31mIndexError\u001b[39m: list index out of range"
     ]
    }
   ],
   "source": [
    "numbers[len(numbers)+1]"
   ]
  },
  {
   "cell_type": "code",
   "execution_count": 32,
   "id": "d5f765bd-9ba9-4c24-887b-af65bc18bf63",
   "metadata": {},
   "outputs": [
    {
     "ename": "IndexError",
     "evalue": "list index out of range",
     "output_type": "error",
     "traceback": [
      "\u001b[31m---------------------------------------------------------------------------\u001b[39m",
      "\u001b[31mIndexError\u001b[39m                                Traceback (most recent call last)",
      "\u001b[36mCell\u001b[39m\u001b[36m \u001b[39m\u001b[32mIn[32]\u001b[39m\u001b[32m, line 1\u001b[39m\n\u001b[32m----> \u001b[39m\u001b[32m1\u001b[39m \u001b[43mnumbers\u001b[49m\u001b[43m[\u001b[49m\u001b[43m-\u001b[49m\u001b[43m(\u001b[49m\u001b[38;5;28;43mlen\u001b[39;49m\u001b[43m(\u001b[49m\u001b[43mnumbers\u001b[49m\u001b[43m)\u001b[49m\u001b[43m+\u001b[49m\u001b[32;43m2\u001b[39;49m\u001b[43m)\u001b[49m\u001b[43m]\u001b[49m\n",
      "\u001b[31mIndexError\u001b[39m: list index out of range"
     ]
    }
   ],
   "source": [
    "numbers[-(len(numbers)+2)]"
   ]
  },
  {
   "cell_type": "code",
   "execution_count": 27,
   "id": "60da39a0-2fc0-470d-89ac-33a5ef8ff3c3",
   "metadata": {},
   "outputs": [
    {
     "data": {
      "text/plain": [
       "[]"
      ]
     },
     "execution_count": 27,
     "metadata": {},
     "output_type": "execute_result"
    }
   ],
   "source": [
    "numbers[len(numbers):] #this does not return error"
   ]
  },
  {
   "cell_type": "code",
   "execution_count": 9,
   "id": "937134ed-c597-489d-8377-5fa24aadcc63",
   "metadata": {},
   "outputs": [
    {
     "name": "stdout",
     "output_type": "stream",
     "text": [
      "[[1, 2, 3], [4, 5, 6], [7, 8, 9]]\n"
     ]
    }
   ],
   "source": [
    "nested_list = [[1, 2, 3], [4, 5, 6] ,[7, 8, 9]]\n",
    "print(nested_list)"
   ]
  },
  {
   "cell_type": "code",
   "execution_count": 10,
   "id": "59832215-e7e4-4e3f-9ddd-c787ac9a5716",
   "metadata": {},
   "outputs": [
    {
     "data": {
      "text/plain": [
       "[1, 2, 3]"
      ]
     },
     "execution_count": 10,
     "metadata": {},
     "output_type": "execute_result"
    }
   ],
   "source": [
    "nested_list[0]"
   ]
  },
  {
   "cell_type": "code",
   "execution_count": 11,
   "id": "7ed67da9-5415-457f-8299-c28967a246f9",
   "metadata": {},
   "outputs": [
    {
     "data": {
      "text/plain": [
       "1"
      ]
     },
     "execution_count": 11,
     "metadata": {},
     "output_type": "execute_result"
    }
   ],
   "source": [
    "nested_list[0][0]"
   ]
  },
  {
   "cell_type": "markdown",
   "id": "a43d1896-6955-4c74-a05d-aee246cd2aec",
   "metadata": {},
   "source": [
    "## lenght or size of the list using len method"
   ]
  },
  {
   "cell_type": "code",
   "execution_count": 6,
   "id": "e82235b8-cbb8-478f-aadf-c1ea52907863",
   "metadata": {
    "vscode": {
     "languageId": "raw"
    }
   },
   "outputs": [
    {
     "name": "stdout",
     "output_type": "stream",
     "text": [
      "numbers: [1, 2, 3, 4, 5], size: 5\n"
     ]
    }
   ],
   "source": [
    "# find the length or size of the list\n",
    "numbers = [1, 2, 3, 4, 5]\n",
    "size = len(numbers)\n",
    "print(f\"numbers: {numbers}, size: {size}\")"
   ]
  },
  {
   "cell_type": "code",
   "execution_count": null,
   "id": "97d6ea36-3148-4dcd-b8a3-4187dffad26f",
   "metadata": {},
   "outputs": [],
   "source": [
    "nested_list = [[1, 2, 3], [4, 5] ,[7, 8, 9]]\n",
    "print(f\"size of the nested list is: {len(nested_list)}\")\n",
    "print(f\"size of the nested list index 1 is: {len(nested_list[1])}\")"
   ]
  },
  {
   "cell_type": "markdown",
   "id": "a297d6a2-5825-49b2-82be-1d005e040150",
   "metadata": {},
   "source": [
    "## Inbuilt methods"
   ]
  },
  {
   "cell_type": "markdown",
   "id": "c72cd621-fef8-45ca-8021-b04e64b5bae4",
   "metadata": {},
   "source": [
    "# Python List Methods — Detailed Reference\n",
    "\n",
    "| Name & Syntax | Input Data Type & Return Type | What it does (details, params, errors, complexities) | Example Code |\n",
    "|---------------|------------------------------|-------------------------------------------------------|--------------|\n",
    "| **append(item)** | **Input:** any object<br>**Return:** None | - Adds a single item to the end of the list.<br>- **In-place update** (modifies list).<br>- Index unchanged for existing items.<br>- **Params:** item (required).<br>- **Errors:** None.<br>- **Time Complexity:** O(1) amortized.<br>- **Space Complexity:** O(1) amortized. | `lst = [1, 2]`<br>`lst.append(3)`<br>`print(lst)  # [1, 2, 3]` |\n",
    "| **extend(iterable)** | **Input:** iterable<br>**Return:** None | - Appends all elements from `iterable`.<br>- **In-place update**.<br>- **Params:** iterable (required).<br>- **Errors:** `TypeError` if not iterable.<br>- **Time Complexity:** O(k).<br>- **Space Complexity:** O(k). | `lst = [1, 2]`<br>`lst.extend([3, 4])`<br>`print(lst)  # [1, 2, 3, 4]` |\n",
    "| **insert(index, item)** | **Input:** int, any<br>**Return:** None | - Inserts item at given index.<br>- **In-place update**.<br>- Adjusts for out-of-range index.<br>- **Errors:** `TypeError` if index not int.<br>- **Time Complexity:** O(n).<br>- **Space Complexity:** O(1). | `lst = [1, 2, 4]`<br>`lst.insert(2, 3)`<br>`print(lst)  # [1, 2, 3, 4]` |\n",
    "| **remove(value)** | **Input:** any object<br>**Return:** None | - Removes first occurrence of value.<br>- **In-place update**.<br>- **Errors:** `ValueError` if not found.<br>- **Time Complexity:** O(n).<br>- **Space Complexity:** O(1). | `lst = [1, 2, 3, 2]`<br>`lst.remove(2)`<br>`print(lst)  # [1, 3, 2]` |\n",
    "| **pop([index])** | **Input:** optional int<br>**Return:** element | - Removes and returns element.<br>- Defaults to last if no index.<br>- **In-place update**.<br>- **Errors:** `IndexError` if list empty or index out of range.<br>- **Time Complexity:** O(1) for last, O(n) otherwise.<br>- **Space Complexity:** O(1). | `lst = [1, 2, 3]`<br>`print(lst.pop())  # 3`<br>`print(lst.pop(0))  # 1` |\n",
    "| **clear()** | **Input:** None<br>**Return:** None | - Removes all elements.<br>- **In-place update**.<br>- **Time Complexity:** O(n).<br>- **Space Complexity:** O(1). | `lst = [1, 2, 3]`<br>`lst.clear()`<br>`print(lst)  # []` |\n",
    "| **index(value, [start], [stop])** | **Input:** value, optional ints<br>**Return:** int | - Returns first index of value.<br>- **Errors:** `ValueError` if not found.<br>- **Time Complexity:** O(n).<br>- **Space Complexity:** O(1). | `lst = [1, 2, 3, 2]`<br>`print(lst.index(2))  # 1`<br>`print(lst.index(2, 2))  # 3` |\n",
    "| **count(value)** | **Input:** any object<br>**Return:** int | - Counts occurrences of value.<br>- **Time Complexity:** O(n).<br>- **Space Complexity:** O(1). | `lst = [1, 2, 2, 3]`<br>`print(lst.count(2))  # 2` |\n",
    "| **sort(key=None, reverse=False)** | **Input:** optional callable, bool<br>**Return:** None | - Sorts list in place.<br>- Uses Timsort.<br>- **Errors:** `TypeError` if incomparable items.<br>- **Time Complexity:** O(n log n).<br>- **Space Complexity:** O(n). | `lst = [3, 1, 2]`<br>`lst.sort()`<br>`print(lst)  # [1, 2, 3]` |\n",
    "| **reverse()** | **Input:** None<br>**Return:** None | - Reverses list in place.<br>- **Time Complexity:** O(n).<br>- **Space Complexity:** O(1). | `lst = [1, 2, 3]`<br>`lst.reverse()`<br>`print(lst)  # [3, 2, 1]` |\n",
    "| **copy()** | **Input:** None<br>**Return:** list | - Returns shallow copy.<br>- **Time Complexity:** O(n).<br>- **Space Complexity:** O(n). | `lst = [1, 2, 3]`<br>`new_lst = lst.copy()`<br>`print(new_lst)  # [1, 2, 3]` |\n"
   ]
  },
  {
   "cell_type": "markdown",
   "id": "fe8a538b-9eba-4e43-88fe-18b5ca4667f9",
   "metadata": {
    "jp-MarkdownHeadingCollapsed": true
   },
   "source": [
    "### Interview Tricky Questions"
   ]
  },
  {
   "cell_type": "markdown",
   "id": "ca2118bc-b20b-4dae-8ab2-8b37f5170c1a",
   "metadata": {},
   "source": [
    "\n",
    "1. **What happens when you do `a = [1, 2, 3]` and then `b = a`?**\n",
    "   - Both variables reference the same list object\n",
    "   - Modifying one affects the other\n",
    "\n",
    "2. **How would you create a list of lists with 3 rows and 4 columns?**\n",
    "   - Incorrect: `[[0] * 4] * 3` (creates references to the same inner list)\n",
    "   - Correct: `[[0 for _ in range(4)] for _ in range(3)]`\n",
    "\n",
    "3. **What's the output of `[1, 2, 3, 4] * 2`?**\n",
    "   - `[1, 2, 3, 4, 1, 2, 3, 4]` (repeats the list)\n",
    "\n",
    "4. **How do you remove duplicates from a list while preserving order?**\n",
    "   - Using a dictionary: `list(dict.fromkeys(my_list))`\n",
    "   - Using sets (if elements are hashable): `list(dict.fromkeys(my_list))`\n",
    "\n",
    "5. **What's the difference between `list.sort()` and `sorted(list)`?**\n",
    "   - `list.sort()` modifies the list in-place and returns None\n",
    "   - `sorted(list)` returns a new sorted list and leaves the original unchanged\n",
    "\n",
    "6. **How would you find the most frequent element in a list?**\n",
    "   - `max(set(my_list), key=my_list.count)`\n",
    "\n",
    "7. **What happens in `a = [[]]*3` vs `a = [[] for _ in range(3)]`?**\n",
    "   - First creates 3 references to the same empty list\n",
    "   - Second creates 3 distinct empty lists\n",
    "\n",
    "8. **How would you swap two elements in a list?**\n",
    "   - Python's tuple unpacking: `my_list[i], my_list[j] = my_list[j], my_list[i]`"
   ]
  },
  {
   "cell_type": "markdown",
   "id": "ed9b5ad3-44c5-4619-9132-efd0594a36e2",
   "metadata": {},
   "source": [
    "## difference between append and extend\n",
    "- append adds element to the end of the list, it doesn't matter what you pass. if iterable is passed, it add it to the end of the list. It increment list size by 1. \n",
    "- extend works only with iterables, when itrables are passed it iterate and add each element in separate index. It increments list size by length of the iterables."
   ]
  },
  {
   "cell_type": "code",
   "execution_count": 33,
   "id": "e5c11ef0-b6b6-40c1-a138-61c6d50a1c8a",
   "metadata": {},
   "outputs": [
    {
     "data": {
      "text/plain": [
       "[1, 2, 3]"
      ]
     },
     "execution_count": 33,
     "metadata": {},
     "output_type": "execute_result"
    }
   ],
   "source": [
    "lst = [1, 2, 3]\n",
    "lst"
   ]
  },
  {
   "cell_type": "code",
   "execution_count": 36,
   "id": "b00a0a31-1b08-4a7f-ba27-c08a3cdaa9b8",
   "metadata": {},
   "outputs": [
    {
     "name": "stdout",
     "output_type": "stream",
     "text": [
      "[1, 2, 3, 4]\n",
      "[1, 2, 3, 4, 'a']\n",
      "[1, 2, 3, 4, 'a', 1.5]\n",
      "[1, 2, 3, 4, 'a', 1.5, [2, 3]]\n",
      "[1, 2, 3, 4, 'a', 1.5, [2, 3], (3, 5)]\n",
      "[1, 2, 3, 4, 'a', 1.5, [2, 3], (3, 5), {6, 7}]\n"
     ]
    }
   ],
   "source": [
    "lst.append(4)\n",
    "print(lst)\n",
    "lst.append('a')\n",
    "print(lst)\n",
    "lst.append(1.5)\n",
    "print(lst)\n",
    "lst.append([2, 3])\n",
    "print(lst)\n",
    "lst.append((3, 5))\n",
    "print(lst)\n",
    "lst.append({6, 7})\n",
    "print(lst)"
   ]
  },
  {
   "cell_type": "code",
   "execution_count": 41,
   "id": "c449c058-d399-4150-8e90-b41aaa6d7e2e",
   "metadata": {},
   "outputs": [
    {
     "name": "stdout",
     "output_type": "stream",
     "text": [
      "[1, 2, 3]\n",
      "[1, 2, 3, 4, 5]\n",
      "[1, 2, 3, 4, 5, 10, 11]\n",
      "[1, 2, 3, 4, 5, 10, 11, 12, 13]\n",
      "[1, 2, 3, 4, 5, 10, 11, 12, 13, [6, 7], [8, 9]]\n"
     ]
    }
   ],
   "source": [
    "lst = [1, 2, 3]\n",
    "print(lst)\n",
    "lst.extend([4, 5])\n",
    "print(lst)\n",
    "lst.extend((10, 11))\n",
    "print(lst)\n",
    "lst.extend({12, 13})\n",
    "print(lst)\n",
    "lst.extend([[6, 7], [8, 9]])\n",
    "print(lst)"
   ]
  },
  {
   "cell_type": "markdown",
   "id": "1fe77e1c-7c8e-4d1f-a3bf-d2211e43a562",
   "metadata": {},
   "source": [
    "### Write a python program to update a value to a index and shift all the element to the next index without using inbuild method."
   ]
  },
  {
   "cell_type": "code",
   "execution_count": 50,
   "id": "49b21cea-50ac-4837-b50e-4148233a0bf9",
   "metadata": {},
   "outputs": [],
   "source": [
    "def add_new(lst, index, value):\n",
    "    lst.append(0) #increment list size\n",
    "    n = index\n",
    "    while n < len(lst):\n",
    "        old = lst[n]\n",
    "        lst[n] = value\n",
    "        n += 1\n",
    "        value = old"
   ]
  },
  {
   "cell_type": "code",
   "execution_count": 51,
   "id": "b532894a",
   "metadata": {},
   "outputs": [
    {
     "name": "stdout",
     "output_type": "stream",
     "text": [
      "[1, 3, 4, 6, 7, 3, 4]\n",
      "[1, 3, 4, 9, 6, 7, 3, 4]\n"
     ]
    }
   ],
   "source": [
    "lst = [1, 3, 4, 6, 7,3, 4]\n",
    "print(lst)\n",
    "add_new(lst, 3, 9)\n",
    "print(lst)"
   ]
  },
  {
   "cell_type": "code",
   "execution_count": 52,
   "id": "d327e994",
   "metadata": {},
   "outputs": [
    {
     "data": {
      "text/plain": [
       "[1, 2, 3, 9, 4, 5, 6, 7, 8]"
      ]
     },
     "execution_count": 52,
     "metadata": {},
     "output_type": "execute_result"
    }
   ],
   "source": [
    "def add_new_value(lst, index, value):\n",
    "    return lst[:index]+[value]+lst[index:]\n",
    "add_new_value([1, 2, 3, 4, 5, 6, 7, 8], 3, 9)"
   ]
  },
  {
   "cell_type": "code",
   "execution_count": null,
   "id": "cc1060ec",
   "metadata": {},
   "outputs": [
    {
     "data": {
      "text/plain": [
       "[1, 3, 10, 5, 4, 6, 7, 8, 9]"
      ]
     },
     "execution_count": 9,
     "metadata": {},
     "output_type": "execute_result"
    }
   ],
   "source": [
    "insert = lambda lst, index, value: lst[:index]+[value]+lst[index:]\n",
    "insert([1,3,5,4,6,7,8,9], 2, 10)"
   ]
  },
  {
   "cell_type": "markdown",
   "id": "b44a3052-fc6a-4fba-9962-ccfb3f6c4e43",
   "metadata": {},
   "source": [
    "## what is the difference between list.sort() and sorted(list) methods.\n",
    "The key difference between list.sort() and sorted(list) is that list.sort() sorts the list in-place and returns None, while sorted(list) returns a new, sorted list and leaves the original list unchanged. It doesn't matter what data type you pass to sorted. it will always return a list.\n",
    "- Both list.sort() and sorted() use the same timsort sorting algorithm, which combines Merge Sort + Insertion Sort.\n",
    "- list.sort() is slight faster than sorted.\n",
    "\n",
    "## Time and Space Complexity of `list.sort()` and `sorted()`\n",
    "\n",
    "| Function | Algorithm | Best Case Time | Average Case Time | Worst Case Time | Space Complexity |\n",
    "|----------|-----------|----------------|-------------------|-----------------|------------------|\n",
    "| `list.sort()` | Timsort (Merge Sort + Insertion Sort) | O(n) | O(n log n) | O(n log n) | O(n) |\n",
    "| `sorted()` | Timsort (Merge Sort + Insertion Sort) | O(n) | O(n log n) | O(n log n) | O(n) + O(n) new list |\n",
    "\n"
   ]
  },
  {
   "cell_type": "code",
   "execution_count": 70,
   "id": "6750bac3-01c1-461c-bb51-85c1cf86a8bd",
   "metadata": {},
   "outputs": [
    {
     "name": "stdout",
     "output_type": "stream",
     "text": [
      "[1, 1, 2, 3, 4, 5, 9]\n",
      "[3, 1, 4, 1, 5, 9, 2]\n",
      "[1, 2, 3] <class 'list'>\n",
      "[0, 2, 3, 4, 6] <class 'list'>\n"
     ]
    }
   ],
   "source": [
    "original_list = [3, 1, 4, 1, 5, 9, 2]\n",
    "new_sorted_list = sorted(original_list)\n",
    "print(new_sorted_list) # Output: [1, 1, 2, 3, 4, 5, 9]\n",
    "print(original_list)   # Output: [3, 1, 4, 1, 5, 9, 2]\n",
    "\n",
    "# It works on other iterables too\n",
    "my_tuple = (3, 1, 2)\n",
    "sorted_tuple = sorted(my_tuple)\n",
    "print(sorted_tuple, type(sorted_tuple)) # Output: [1, 2, 3]\n",
    "\n",
    "myset = {4, 6, 3, 2, 0, 4}\n",
    "sorted_set = sorted(myset)\n",
    "print(sorted_set, type(sorted_set))"
   ]
  },
  {
   "cell_type": "code",
   "execution_count": 71,
   "id": "b31df758-0ec6-400e-ab71-81896894893f",
   "metadata": {},
   "outputs": [
    {
     "name": "stdout",
     "output_type": "stream",
     "text": [
      "original list before sort:  [3, 1, 4, 1, 5, 9, 2]\n",
      "original list after sort:  [1, 1, 2, 3, 4, 5, 9]\n"
     ]
    }
   ],
   "source": [
    "original_list = [3, 1, 4, 1, 5, 9, 2]\n",
    "print(\"original list before sort: \", original_list)\n",
    "original_list.sort()\n",
    "print(\"original list after sort: \", original_list)"
   ]
  },
  {
   "cell_type": "markdown",
   "id": "e0dfca7b-e5f9-4862-a00f-377d342bf1f9",
   "metadata": {
    "jp-MarkdownHeadingCollapsed": true
   },
   "source": [
    "## what would be the output of inserting element with invalid index.\n",
    "- passing invalid negative index (< -len(lst)+1) will add element to the start of the list, no error thrown.\n",
    "- passing invalid positive index > len(lst) will add element to the end of the list, no error thrown."
   ]
  },
  {
   "cell_type": "code",
   "execution_count": 59,
   "id": "12076591-57d7-4d3f-874f-d7b3798fac06",
   "metadata": {},
   "outputs": [
    {
     "data": {
      "text/plain": [
       "[1, 2, 5, 3, 4]"
      ]
     },
     "execution_count": 59,
     "metadata": {},
     "output_type": "execute_result"
    }
   ],
   "source": [
    "lst = [1, 2, 3, 4]\n",
    "lst.insert(2, 5)\n",
    "lst"
   ]
  },
  {
   "cell_type": "code",
   "execution_count": 60,
   "id": "90f47996-acff-4eab-95af-b16fcb87de76",
   "metadata": {},
   "outputs": [
    {
     "data": {
      "text/plain": [
       "[1, 2, 5, 3, 4, 6]"
      ]
     },
     "execution_count": 60,
     "metadata": {},
     "output_type": "execute_result"
    }
   ],
   "source": [
    "lst.insert(7, 6)\n",
    "lst"
   ]
  },
  {
   "cell_type": "code",
   "execution_count": 61,
   "id": "b3b7e937-e8bc-47c9-a87c-50f2f63222c8",
   "metadata": {},
   "outputs": [
    {
     "data": {
      "text/plain": [
       "[1, 2, 5, 3, 4, 8, 6]"
      ]
     },
     "execution_count": 61,
     "metadata": {},
     "output_type": "execute_result"
    }
   ],
   "source": [
    "lst.insert(-1, 8)\n",
    "lst"
   ]
  },
  {
   "cell_type": "code",
   "execution_count": 62,
   "id": "518e513f-be9e-4495-bc94-13eaf70d824d",
   "metadata": {},
   "outputs": [
    {
     "data": {
      "text/plain": [
       "[10, 1, 2, 5, 3, 4, 8, 6]"
      ]
     },
     "execution_count": 62,
     "metadata": {},
     "output_type": "execute_result"
    }
   ],
   "source": [
    "lst.insert(-10, 10)\n",
    "lst"
   ]
  },
  {
   "cell_type": "markdown",
   "id": "bd8fccb5-01de-4839-a390-1428f419eee1",
   "metadata": {},
   "source": [
    "## write a program to reverse a list using inbuild or without inbuild method"
   ]
  },
  {
   "cell_type": "code",
   "execution_count": 63,
   "id": "5f435760-a92f-47bb-9cf6-524daef94b86",
   "metadata": {},
   "outputs": [
    {
     "name": "stdout",
     "output_type": "stream",
     "text": [
      "[1, 2, 3, 4, 5]\n",
      "[5, 4, 3, 2, 1]\n"
     ]
    }
   ],
   "source": [
    "lst = [1, 2, 3, 4, 5]\n",
    "print(lst)\n",
    "lst.reverse()\n",
    "print(lst)"
   ]
  },
  {
   "cell_type": "code",
   "execution_count": 64,
   "id": "52a7a9a1-5943-4c2e-aba7-f600dd8a4a3f",
   "metadata": {},
   "outputs": [
    {
     "name": "stdout",
     "output_type": "stream",
     "text": [
      "[1, 2, 3, 4, 5]\n",
      "[5, 4, 3, 2, 1]\n"
     ]
    }
   ],
   "source": [
    "lst = [1, 2, 3, 4, 5]\n",
    "print(lst)\n",
    "print(lst[::-1])"
   ]
  },
  {
   "cell_type": "code",
   "execution_count": 68,
   "id": "6a30a6a9-7f59-4d56-aff7-a686a8d948ef",
   "metadata": {},
   "outputs": [
    {
     "name": "stdout",
     "output_type": "stream",
     "text": [
      "[5, 4, 3, 2, 1]\n"
     ]
    }
   ],
   "source": [
    "lst = [1, 2, 3, 4, 5]\n",
    "start, end = 0, len(lst) - 1\n",
    "while start < end:\n",
    "    temp = lst[start]\n",
    "    lst[start] = lst[end]\n",
    "    lst[end] = temp\n",
    "    start += 1\n",
    "    end -= 1\n",
    "\n",
    "print(lst)"
   ]
  },
  {
   "cell_type": "markdown",
   "id": "5441795c-d8e0-427d-aa3b-7bc911cda814",
   "metadata": {},
   "source": [
    "## list unpacking\n",
    "\n",
    "- extracting some element and assign to a variable.\n",
    "- if element is not needed we can use _ to assign it, it means don't care."
   ]
  },
  {
   "cell_type": "code",
   "execution_count": 1,
   "id": "ac70f928-dc87-4538-801a-a883c74e78bf",
   "metadata": {},
   "outputs": [
    {
     "name": "stdout",
     "output_type": "stream",
     "text": [
      "a=1, b=[2, 3, 4], c=5\n"
     ]
    }
   ],
   "source": [
    "lst = [1, 2, 3, 4, 5]\n",
    "a, *b, c = lst\n",
    "\n",
    "print(f\"a={a}, b={b}, c={c}\")"
   ]
  },
  {
   "cell_type": "code",
   "execution_count": 3,
   "id": "3601378a-7217-4ace-99ee-d209e64f2ad8",
   "metadata": {},
   "outputs": [
    {
     "name": "stdout",
     "output_type": "stream",
     "text": [
      "a=1, b=2, c=5\n"
     ]
    }
   ],
   "source": [
    "lst = [1, 2, 3, 4, 5]\n",
    "a, b, *_, c = lst\n",
    "\n",
    "print(f\"a={a}, b={b}, c={c}\")"
   ]
  },
  {
   "cell_type": "markdown",
   "id": "d6f43776-b3ed-41ab-b224-94682303c9bd",
   "metadata": {},
   "source": [
    "## Membership operator to check element present in list"
   ]
  },
  {
   "cell_type": "code",
   "execution_count": 5,
   "id": "f0baa20e-fe09-4f05-9cde-b239e45e6b74",
   "metadata": {},
   "outputs": [
    {
     "name": "stdout",
     "output_type": "stream",
     "text": [
      "True\n"
     ]
    },
    {
     "data": {
      "text/plain": [
       "False"
      ]
     },
     "execution_count": 5,
     "metadata": {},
     "output_type": "execute_result"
    }
   ],
   "source": [
    "new_list = [2, 6, 7, 9]\n",
    "print(2 in new_list )\n",
    "5 in new_list"
   ]
  },
  {
   "cell_type": "code",
   "execution_count": 8,
   "id": "af30f434-98cc-4f67-a2f8-658ce445aabc",
   "metadata": {},
   "outputs": [
    {
     "data": {
      "text/plain": [
       "True"
      ]
     },
     "execution_count": 8,
     "metadata": {},
     "output_type": "execute_result"
    }
   ],
   "source": [
    "isinstance(new_list, list)"
   ]
  },
  {
   "cell_type": "markdown",
   "id": "c1a59107-fff4-436a-8b37-80b867f542e2",
   "metadata": {},
   "source": [
    "## concatenate list in python"
   ]
  },
  {
   "cell_type": "code",
   "execution_count": 10,
   "id": "dc60f9a5-189c-4c0b-8867-2a9f3f153191",
   "metadata": {},
   "outputs": [
    {
     "data": {
      "text/plain": [
       "[1, 2, 3, 3, 4, 5]"
      ]
     },
     "execution_count": 10,
     "metadata": {},
     "output_type": "execute_result"
    }
   ],
   "source": [
    "lst1 = [1, 2, 3]\n",
    "lst2 = [3, 4, 5]\n",
    "lst1 + lst2"
   ]
  },
  {
   "cell_type": "code",
   "execution_count": 11,
   "id": "aa60a79c-d97a-4cf1-903b-8cc63b2b37b3",
   "metadata": {},
   "outputs": [
    {
     "ename": "TypeError",
     "evalue": "unsupported operand type(s) for -: 'list' and 'list'",
     "output_type": "error",
     "traceback": [
      "\u001b[31m---------------------------------------------------------------------------\u001b[39m",
      "\u001b[31mTypeError\u001b[39m                                 Traceback (most recent call last)",
      "\u001b[36mCell\u001b[39m\u001b[36m \u001b[39m\u001b[32mIn[11]\u001b[39m\u001b[32m, line 1\u001b[39m\n\u001b[32m----> \u001b[39m\u001b[32m1\u001b[39m \u001b[43mlst1\u001b[49m\u001b[43m \u001b[49m\u001b[43m-\u001b[49m\u001b[43m \u001b[49m\u001b[43mlst2\u001b[49m\n",
      "\u001b[31mTypeError\u001b[39m: unsupported operand type(s) for -: 'list' and 'list'"
     ]
    }
   ],
   "source": [
    "lst1 - lst2"
   ]
  },
  {
   "cell_type": "code",
   "execution_count": 13,
   "id": "d1649472-2a5a-49e0-a30a-795a1b6c9c5f",
   "metadata": {},
   "outputs": [
    {
     "data": {
      "text/plain": [
       "[(1, 3), (2, 4), (3, 5)]"
      ]
     },
     "execution_count": 13,
     "metadata": {},
     "output_type": "execute_result"
    }
   ],
   "source": [
    "list(zip(lst1, lst2))"
   ]
  },
  {
   "cell_type": "markdown",
   "id": "8bf4528f-f52b-42b3-ba8d-f27d30cfc6f8",
   "metadata": {},
   "source": [
    "## write a python program to flatten a nested list using recursion"
   ]
  },
  {
   "cell_type": "code",
   "execution_count": 22,
   "id": "4d11cdeb-f24c-43ed-b693-f7c5b20049e0",
   "metadata": {},
   "outputs": [
    {
     "data": {
      "text/plain": [
       "[1, 3, 4, 5, 6, 7, 8, 9, 5, 6, 7]"
      ]
     },
     "execution_count": 22,
     "metadata": {},
     "output_type": "execute_result"
    }
   ],
   "source": [
    "lst = [[1, 3], [4, 5], [6, 7, [8, 9]], [[[5, 6, 7]]]]\n",
    "new_list = []\n",
    "def flatten_list(nested_list: list)-> list:\n",
    "    \"\"\"\n",
    "    Flattens a nested list using recursion.\n",
    "\n",
    "    Args:\n",
    "        nested_list: The list to flatten, which may contain sublists.\n",
    "\n",
    "    Returns:\n",
    "        A new list with all elements from the nested list, flattened.\n",
    "    \"\"\"\n",
    "    flat_list = []\n",
    "    for item in nested_list:\n",
    "        if isinstance(item, list):\n",
    "            flat_list.extend(flatten_list(item))\n",
    "        else:\n",
    "            flat_list.append(item)\n",
    "    return flat_list\n",
    "\n",
    "flatten_list(lst)\n",
    "    \n",
    "    "
   ]
  },
  {
   "cell_type": "markdown",
   "id": "05af4d81-66a7-4347-998e-13cb138e06a5",
   "metadata": {},
   "source": [
    "## remove duplicate from a list without using inbuilt methods"
   ]
  },
  {
   "cell_type": "code",
   "execution_count": 24,
   "id": "b459d834-4781-4632-9c3c-b35793864001",
   "metadata": {},
   "outputs": [
    {
     "data": {
      "text/plain": [
       "[1, 2, 3, 4, 5]"
      ]
     },
     "execution_count": 24,
     "metadata": {},
     "output_type": "execute_result"
    }
   ],
   "source": [
    "lst = [1, 2, 3, 2, 3, 5, 4, 3, 2, 1]\n",
    "list(set(lst))"
   ]
  },
  {
   "cell_type": "code",
   "execution_count": 28,
   "id": "37624710-5e92-4df3-9b10-7239dc0a0eac",
   "metadata": {},
   "outputs": [
    {
     "name": "stdout",
     "output_type": "stream",
     "text": [
      "[1, 2, 3, 5, 4]\n"
     ]
    }
   ],
   "source": [
    "lst = [1, 2, 3, 2, 3, 5, 4, 3, 2, 1]\n",
    "non_dup = []\n",
    "for i in lst:\n",
    "    if i not in non_dup:\n",
    "        non_dup.append(i)\n",
    "\n",
    "print(non_dup)"
   ]
  },
  {
   "cell_type": "code",
   "execution_count": 44,
   "id": "0f159432-67dd-4a9b-960a-394c8b6f5f88",
   "metadata": {},
   "outputs": [
    {
     "data": {
      "text/plain": [
       "28"
      ]
     },
     "execution_count": 44,
     "metadata": {},
     "output_type": "execute_result"
    }
   ],
   "source": []
  },
  {
   "cell_type": "code",
   "execution_count": null,
   "id": "c1ceb9e2-d42a-4035-a112-339428f295a1",
   "metadata": {},
   "outputs": [],
   "source": []
  }
 ],
 "metadata": {
  "kernelspec": {
   "display_name": "Python 3 (ipykernel)",
   "language": "python",
   "name": "python3"
  },
  "language_info": {
   "codemirror_mode": {
    "name": "ipython",
    "version": 3
   },
   "file_extension": ".py",
   "mimetype": "text/x-python",
   "name": "python",
   "nbconvert_exporter": "python",
   "pygments_lexer": "ipython3",
   "version": "3.13.5"
  }
 },
 "nbformat": 4,
 "nbformat_minor": 5
}
