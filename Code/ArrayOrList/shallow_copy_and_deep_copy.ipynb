{
  "nbformat": 4,
  "nbformat_minor": 0,
  "metadata": {
    "colab": {
      "provenance": []
    },
    "kernelspec": {
      "name": "python3",
      "display_name": "Python 3"
    },
    "language_info": {
      "name": "python"
    }
  },
  "cells": [
    {
      "cell_type": "markdown",
      "source": [
        "##summary\n",
        "\n",
        "\n",
        "1.   when we directly assign value of 1 var to another (i.e. a = b), it is called referencing. It will not create a copy of b in a. instead it will point to same memory location. change in a or b, can change both. we can use id(a) == id(b) to verify referencing.\n",
        "2.   we can create shallow copy by multiple ways:\n",
        "    1. B = A[:]\n",
        "    2. B = [i for i in A] #using list comprehension\n",
        "    3. B = copy.copy(A) #using copy module.\n",
        "    4. B = list(A)</br>\n",
        "    when shallow copy is created. and our list have mutable data type(list, set, dict) in that case, changing value of immutable data type in a or b will not impact both. but if value of mutable data types are changed, it will be reflected in all copies.\n",
        "3. deep copy: deep copy can be created by using copy.deepcopy() method. it will recursively create a copy. changing any value whether mutable or immutable will not impact other copies.\n",
        "\n"
      ],
      "metadata": {
        "id": "4EfZJNGObR5W"
      }
    },
    {
      "cell_type": "code",
      "execution_count": 21,
      "metadata": {
        "id": "1gIAWU1-UIQV"
      },
      "outputs": [],
      "source": [
        "import copy, random"
      ]
    },
    {
      "cell_type": "code",
      "source": [
        "list1 = [1, 2, 3, 4, [5, 6], 7, 8]\n",
        "list1"
      ],
      "metadata": {
        "colab": {
          "base_uri": "https://localhost:8080/"
        },
        "id": "v-QmaghAUJ4P",
        "outputId": "304f16f5-bc89-45a2-9033-170c21743cd9"
      },
      "execution_count": 22,
      "outputs": [
        {
          "output_type": "execute_result",
          "data": {
            "text/plain": [
              "[1, 2, 3, 4, [5, 6], 7, 8]"
            ]
          },
          "metadata": {},
          "execution_count": 22
        }
      ]
    },
    {
      "cell_type": "markdown",
      "source": [
        "##Referencing -> it will not create the copy, instead point to same object or memory location"
      ],
      "metadata": {
        "id": "lRhhhIMyX9xn"
      }
    },
    {
      "cell_type": "code",
      "source": [
        "list2 = list1\n",
        "print(\"list 1 is:\", list1)\n",
        "print(\"list 2 is:\", list2)"
      ],
      "metadata": {
        "colab": {
          "base_uri": "https://localhost:8080/"
        },
        "id": "TRDvjUQgUQAr",
        "outputId": "9917e9f9-6422-43bf-df05-a596b57e0139"
      },
      "execution_count": 23,
      "outputs": [
        {
          "output_type": "stream",
          "name": "stdout",
          "text": [
            "list 1 is: [1, 2, 3, 4, [5, 6], 7, 8]\n",
            "list 2 is: [1, 2, 3, 4, [5, 6], 7, 8]\n"
          ]
        }
      ]
    },
    {
      "cell_type": "code",
      "source": [
        "list1[0] = 9\n",
        "print(\"list 1 is:\", list1)\n",
        "print(\"list 2 is:\", list2)"
      ],
      "metadata": {
        "colab": {
          "base_uri": "https://localhost:8080/"
        },
        "id": "tK71M5IhUU3N",
        "outputId": "0709b7df-9053-461f-86ba-be4c6637d5db"
      },
      "execution_count": 24,
      "outputs": [
        {
          "output_type": "stream",
          "name": "stdout",
          "text": [
            "list 1 is: [9, 2, 3, 4, [5, 6], 7, 8]\n",
            "list 2 is: [9, 2, 3, 4, [5, 6], 7, 8]\n"
          ]
        }
      ]
    },
    {
      "cell_type": "code",
      "source": [
        "list2.pop()\n",
        "print(\"list 1 is:\", list1)\n",
        "print(\"list 2 is:\", list2)"
      ],
      "metadata": {
        "colab": {
          "base_uri": "https://localhost:8080/"
        },
        "id": "Mp0UqPt5UYnu",
        "outputId": "2aa19627-c2ec-44d9-a51b-5ff346fd3f41"
      },
      "execution_count": 25,
      "outputs": [
        {
          "output_type": "stream",
          "name": "stdout",
          "text": [
            "list 1 is: [9, 2, 3, 4, [5, 6], 7]\n",
            "list 2 is: [9, 2, 3, 4, [5, 6], 7]\n"
          ]
        }
      ]
    },
    {
      "cell_type": "markdown",
      "source": [
        "Change in y resulted in change in x"
      ],
      "metadata": {
        "id": "0jSBxZyQYKLp"
      }
    },
    {
      "cell_type": "markdown",
      "source": [
        "##Shallow copy\n",
        "it means change in index of list2 except 4 will not reflect in any other copy but updating the mutable index 4 value would modify all copy as well."
      ],
      "metadata": {
        "id": "cpgzX4PIYO-p"
      }
    },
    {
      "cell_type": "code",
      "source": [
        "list1 = [1, 2, 3, 4, [5, 6], 7, 8]\n",
        "list1"
      ],
      "metadata": {
        "id": "yJtuBU0FUgPe",
        "colab": {
          "base_uri": "https://localhost:8080/"
        },
        "outputId": "de378a07-5008-4615-c013-283b48b9e4fe"
      },
      "execution_count": 26,
      "outputs": [
        {
          "output_type": "execute_result",
          "data": {
            "text/plain": [
              "[1, 2, 3, 4, [5, 6], 7, 8]"
            ]
          },
          "metadata": {},
          "execution_count": 26
        }
      ]
    },
    {
      "cell_type": "code",
      "source": [
        "list2 = list1.copy()\n",
        "list3 = list1[::]\n",
        "list4 = [ i for i in list1]\n",
        "list5 = list1\n",
        "print(\"list 1 is:\", list1)\n",
        "print(\"list 2 is:\", list2)\n",
        "print(\"list 3 is:\", list3)\n",
        "print(\"list 4 is:\", list4)\n",
        "print(\"list 5 is:\", list5)"
      ],
      "metadata": {
        "colab": {
          "base_uri": "https://localhost:8080/"
        },
        "id": "e7DWNWUtWvCX",
        "outputId": "69349c8f-e049-47e2-c4da-df426fecb28e"
      },
      "execution_count": 36,
      "outputs": [
        {
          "output_type": "stream",
          "name": "stdout",
          "text": [
            "list 1 is: [1, 2, 9, 4, [5, 6, 15], 7, 8]\n",
            "list 2 is: [1, 2, 9, 4, [5, 6, 15], 7, 8]\n",
            "list 3 is: [1, 2, 9, 4, [5, 6, 15], 7, 8]\n",
            "list 4 is: [1, 2, 9, 4, [5, 6, 15], 7, 8]\n",
            "list 5 is: [1, 2, 9, 4, [5, 6, 15], 7, 8]\n"
          ]
        }
      ]
    },
    {
      "cell_type": "code",
      "source": [
        "list1[2] = 9\n",
        "print(\"list 1 is:\", list1)\n",
        "print(\"list 2 is:\", list2)\n",
        "print(\"list 3 is:\", list3)\n",
        "print(\"list 4 is:\", list4)\n",
        "print(\"list 5 is:\", list5)"
      ],
      "metadata": {
        "colab": {
          "base_uri": "https://localhost:8080/"
        },
        "id": "P1izZmGOW2gm",
        "outputId": "858a5aa7-c52b-447e-880a-326369b32585"
      },
      "execution_count": 38,
      "outputs": [
        {
          "output_type": "stream",
          "name": "stdout",
          "text": [
            "list 1 is: [1, 2, 9, 4, [5, 6, 15], 7, 8]\n",
            "list 2 is: [1, 2, 9, 4, [5, 6, 15], 7, 8]\n",
            "list 3 is: [1, 2, 9, 4, [5, 6, 15], 7, 8]\n",
            "list 4 is: [1, 2, 9, 4, [5, 6, 15], 7, 8]\n",
            "list 5 is: [1, 2, 9, 4, [5, 6, 15], 7, 8]\n"
          ]
        }
      ]
    },
    {
      "cell_type": "code",
      "source": [
        "list2[1] = 10\n",
        "print(\"list 1 is:\", list1)\n",
        "print(\"list 2 is:\", list2)\n",
        "print(\"list 3 is:\", list3)\n",
        "print(\"list 4 is:\", list4)\n",
        "print(\"list 5 is:\", list5)"
      ],
      "metadata": {
        "colab": {
          "base_uri": "https://localhost:8080/"
        },
        "id": "HbRPiXa8Xalc",
        "outputId": "ca2b08d8-6840-4d2b-ff07-dafb059af318"
      },
      "execution_count": 39,
      "outputs": [
        {
          "output_type": "stream",
          "name": "stdout",
          "text": [
            "list 1 is: [1, 2, 9, 4, [5, 6, 15], 7, 8]\n",
            "list 2 is: [1, 10, 9, 4, [5, 6, 15], 7, 8]\n",
            "list 3 is: [1, 2, 9, 4, [5, 6, 15], 7, 8]\n",
            "list 4 is: [1, 2, 9, 4, [5, 6, 15], 7, 8]\n",
            "list 5 is: [1, 2, 9, 4, [5, 6, 15], 7, 8]\n"
          ]
        }
      ]
    },
    {
      "cell_type": "code",
      "source": [
        "list1[4].append(15)\n",
        "print(\"list 1 is:\", list1)\n",
        "print(\"list 2 is:\", list2)\n",
        "print(\"list 3 is:\", list3)\n",
        "print(\"list 4 is:\", list4)\n",
        "print(\"list 5 is:\", list5)"
      ],
      "metadata": {
        "colab": {
          "base_uri": "https://localhost:8080/"
        },
        "id": "CTJzSYnGXa6L",
        "outputId": "dc255be0-fb54-487d-e8b0-8db3c6b041a2"
      },
      "execution_count": 40,
      "outputs": [
        {
          "output_type": "stream",
          "name": "stdout",
          "text": [
            "list 1 is: [1, 2, 9, 4, [5, 6, 15, 15], 7, 8]\n",
            "list 2 is: [1, 10, 9, 4, [5, 6, 15, 15], 7, 8]\n",
            "list 3 is: [1, 2, 9, 4, [5, 6, 15, 15], 7, 8]\n",
            "list 4 is: [1, 2, 9, 4, [5, 6, 15, 15], 7, 8]\n",
            "list 5 is: [1, 2, 9, 4, [5, 6, 15, 15], 7, 8]\n"
          ]
        }
      ]
    },
    {
      "cell_type": "markdown",
      "source": [
        "##Deep copy\n",
        "\n",
        "It would create a copy recursively. no matter whether list contain multable of immutable object.\n",
        "example: below code explains, creating a deep copy list2 from list1. updating any value in list1 will not change list2."
      ],
      "metadata": {
        "id": "7kjsX0XGYy89"
      }
    },
    {
      "cell_type": "code",
      "source": [
        "list1 = [1, 2, 3, 4, [5, 6], 7, 8]\n",
        "list1"
      ],
      "metadata": {
        "colab": {
          "base_uri": "https://localhost:8080/"
        },
        "id": "AD--Js-VXIUa",
        "outputId": "8ca7f234-3f32-4a08-a7ad-cbf5060b5c5c"
      },
      "execution_count": 41,
      "outputs": [
        {
          "output_type": "execute_result",
          "data": {
            "text/plain": [
              "[1, 2, 3, 4, [5, 6], 7, 8]"
            ]
          },
          "metadata": {},
          "execution_count": 41
        }
      ]
    },
    {
      "cell_type": "code",
      "source": [
        "list2 = copy.deepcopy(list1)\n",
        "print(\"list 1 is:\", list1)\n",
        "print(\"list 2 is:\", list2)"
      ],
      "metadata": {
        "colab": {
          "base_uri": "https://localhost:8080/"
        },
        "id": "c3-Gi_IZXOcQ",
        "outputId": "9f648d94-6cfa-4ec6-bb80-9ab41d5ad527"
      },
      "execution_count": 42,
      "outputs": [
        {
          "output_type": "stream",
          "name": "stdout",
          "text": [
            "list 1 is: [1, 2, 3, 4, [5, 6], 7, 8]\n",
            "list 2 is: [1, 2, 3, 4, [5, 6], 7, 8]\n"
          ]
        }
      ]
    },
    {
      "cell_type": "code",
      "source": [
        "list1[0] = 9\n",
        "print(\"list 1 is:\", list1)\n",
        "print(\"list 2 is:\", list2)"
      ],
      "metadata": {
        "colab": {
          "base_uri": "https://localhost:8080/"
        },
        "id": "33o3VPjDXWiU",
        "outputId": "5a15cc8b-f113-4556-effd-a129c0a0f04b"
      },
      "execution_count": 43,
      "outputs": [
        {
          "output_type": "stream",
          "name": "stdout",
          "text": [
            "list 1 is: [9, 2, 3, 4, [5, 6], 7, 8]\n",
            "list 2 is: [1, 2, 3, 4, [5, 6], 7, 8]\n"
          ]
        }
      ]
    },
    {
      "cell_type": "code",
      "source": [
        "list2.pop()\n",
        "print(\"list 1 is:\", list1)\n",
        "print(\"list 2 is:\", list2)"
      ],
      "metadata": {
        "colab": {
          "base_uri": "https://localhost:8080/"
        },
        "id": "TAij34RRXW_L",
        "outputId": "213a69e7-349e-43fe-be90-ae565f4454ad"
      },
      "execution_count": 44,
      "outputs": [
        {
          "output_type": "stream",
          "name": "stdout",
          "text": [
            "list 1 is: [9, 2, 3, 4, [5, 6], 7, 8]\n",
            "list 2 is: [1, 2, 3, 4, [5, 6], 7]\n"
          ]
        }
      ]
    },
    {
      "cell_type": "code",
      "source": [
        "list1[4].append(11)\n",
        "print(\"list 1 is:\", list1)\n",
        "print(\"list 2 is:\", list2)"
      ],
      "metadata": {
        "id": "F53RMyjsbLmb",
        "colab": {
          "base_uri": "https://localhost:8080/"
        },
        "outputId": "46d8dfeb-7028-4897-c105-82f83787b28c"
      },
      "execution_count": 45,
      "outputs": [
        {
          "output_type": "stream",
          "name": "stdout",
          "text": [
            "list 1 is: [9, 2, 3, 4, [5, 6, 11], 7, 8]\n",
            "list 2 is: [1, 2, 3, 4, [5, 6], 7]\n"
          ]
        }
      ]
    },
    {
      "cell_type": "code",
      "source": [],
      "metadata": {
        "id": "ykQddtkccIO0"
      },
      "execution_count": null,
      "outputs": []
    }
  ]
}