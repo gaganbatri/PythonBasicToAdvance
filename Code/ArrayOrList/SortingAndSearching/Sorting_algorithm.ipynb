{
  "nbformat": 4,
  "nbformat_minor": 0,
  "metadata": {
    "colab": {
      "provenance": []
    },
    "kernelspec": {
      "name": "python3",
      "display_name": "Python 3"
    },
    "language_info": {
      "name": "python"
    }
  },
  "cells": [
    {
      "cell_type": "markdown",
      "source": [
        "Sorting is defined as an arrangement of data in a certain order. Sorting techniques are used to arrange data(mostly numerical) in an ascending or descending order. It is a method used for the representation of data in a more comprehensible format. It is an important area of Computer Science. Sorting a large amount of data can take a substantial amount of computing resources if the methods we use to sort the data are inefficient. The efficiency of the algorithm is proportional to the number of items it is traversing. For a small amount of data, a complex sorting method may be more trouble than it is worth. On the other hand, for larger amounts of data, we want to increase the efficiency and speed as far as possible. We will now discuss the several sorting techniques and compare them with respect to their time complexity.\n",
        "\n",
        "\n",
        "\n",
        "Some of the real-life examples of sorting are:\n",
        "\n",
        "Telephone Directory:  It is a book that contains telephone numbers and addresses of people in alphabetical order.\n",
        "Dictionary: It is a huge collection of words along with their meanings in alphabetical order.\n",
        "Contact List: It is a list of contact numbers of people in alphabetical order on a mobile phone."
      ],
      "metadata": {
        "id": "u4pVycGY400d"
      }
    },
    {
      "cell_type": "code",
      "execution_count": null,
      "metadata": {
        "id": "SJeqN4NN4qVa"
      },
      "outputs": [],
      "source": []
    },
    {
      "cell_type": "markdown",
      "source": [
        "## **Bubble Sort**\n",
        "Bubble Sort is a simple sorting algorithm. This sorting algorithm repeatedly compares two adjacent elements and swaps them if they are in the wrong order. It is also known as the sinking sort. It has a time complexity of O(n2) in the average and worst cases scenarios and O(n) in the best-case scenario. Bubble sort can be visualized as a queue where people arrange themselves by swapping with each other so that they all can stand in ascending order of their heights. Or in other words, we compare two adjacent elements and see if their order is wrong, if the order is wrong we swap them.\n"
      ],
      "metadata": {
        "id": "3W8L_ZOC5HV0"
      }
    },
    {
      "cell_type": "code",
      "source": [
        "\n",
        "# Python3 program for Bubble Sort Algorithm Implementation\n",
        "def bubbleSort(arr):\n",
        "\n",
        "    n = len(arr)\n",
        "\n",
        "    # For loop to traverse through all\n",
        "    # element in an array\n",
        "    for i in range(n):\n",
        "        for j in range(0, n - i - 1):\n",
        "\n",
        "            # Range of the array is from 0 to n-i-1\n",
        "            # Swap the elements if the element found\n",
        "            #is greater than the adjacent element\n",
        "            if arr[j] > arr[j + 1]:\n",
        "                arr[j], arr[j + 1] = arr[j + 1], arr[j]\n",
        "    return arr"
      ],
      "metadata": {
        "id": "QkW49Srp5JJz"
      },
      "execution_count": null,
      "outputs": []
    },
    {
      "cell_type": "code",
      "source": [
        "bubbleSort([8, 34, 54, 3, 5, 23, 10, 2, 3, 5, 12])"
      ],
      "metadata": {
        "colab": {
          "base_uri": "https://localhost:8080/"
        },
        "id": "6JXi9wLI5oBN",
        "outputId": "dba20d59-52af-449f-8c49-88cc43287638"
      },
      "execution_count": null,
      "outputs": [
        {
          "output_type": "execute_result",
          "data": {
            "text/plain": [
              "[2, 3, 3, 5, 5, 8, 10, 12, 23, 34, 54]"
            ]
          },
          "metadata": {},
          "execution_count": 4
        }
      ]
    },
    {
      "cell_type": "code",
      "source": [],
      "metadata": {
        "id": "rnYrwr3I55Cu"
      },
      "execution_count": null,
      "outputs": []
    },
    {
      "cell_type": "markdown",
      "source": [
        "# Selection Sort\n",
        "This sorting technique repeatedly finds the minimum element and sort it in order. Bubble Sort does not occupy any extra memory space. During the execution of this algorithm, two subarrays are maintained, the subarray which is already sorted, and the remaining subarray which is unsorted. During the execution of Selection Sort for every iteration, the minimum element of the unsorted subarray is arranged in the sorted subarray. Selection Sort is a more efficient algorithm than bubble sort. Sort has a Time-Complexity of O(n2) in the average, worst, and in the best cases."
      ],
      "metadata": {
        "id": "7-Ua5PDn6Nsl"
      }
    },
    {
      "cell_type": "code",
      "source": [
        "def selectionSort(array):\n",
        "  for i in range(len(array)):\n",
        "    min_idx = i\n",
        "    for j in range(i+1, len(array)):\n",
        "      if array[j] < array[min_idx]:\n",
        "        min_idx = j\n",
        "\n",
        "    array[i], array[min_idx] = array[min_idx], array[i]\n",
        "  return array\n"
      ],
      "metadata": {
        "id": "bby_hBYt6Phu"
      },
      "execution_count": null,
      "outputs": []
    },
    {
      "cell_type": "code",
      "source": [
        "selectionSort([10, 3, 2, 5, 5, 6, 29, 3, 23, 0])"
      ],
      "metadata": {
        "colab": {
          "base_uri": "https://localhost:8080/"
        },
        "id": "2sMxMY437aXK",
        "outputId": "cd704db2-2044-4221-c0b4-f1132f8195e0"
      },
      "execution_count": null,
      "outputs": [
        {
          "output_type": "execute_result",
          "data": {
            "text/plain": [
              "[0, 2, 3, 3, 5, 5, 6, 10, 23, 29]"
            ]
          },
          "metadata": {},
          "execution_count": 6
        }
      ]
    },
    {
      "cell_type": "code",
      "source": [
        "list(range(10, -1, -1))"
      ],
      "metadata": {
        "colab": {
          "base_uri": "https://localhost:8080/"
        },
        "id": "GymfxNU67j4n",
        "outputId": "27e3ae42-4f62-4c52-eb2d-44745041b2fe"
      },
      "execution_count": null,
      "outputs": [
        {
          "output_type": "execute_result",
          "data": {
            "text/plain": [
              "[10, 9, 8, 7, 6, 5, 4, 3, 2, 1, 0]"
            ]
          },
          "metadata": {},
          "execution_count": 8
        }
      ]
    },
    {
      "cell_type": "markdown",
      "source": [
        "# Insertion Sort\n",
        "This sorting algorithm maintains a sub-array that is always sorted. Values from the unsorted part of the array are placed at the correct position in the sorted part. It is more efficient in practice than other algorithms such as selection sort or bubble sort. Insertion Sort has a Time-Complexity of O(n2) in the average and worst case, and O(n) in the best case."
      ],
      "metadata": {
        "id": "-pi0brAw75he"
      }
    },
    {
      "cell_type": "code",
      "source": [
        "def insertion_sort(array):\n",
        "  for i in range(1, len(array)):\n",
        "    current = array[i]\n",
        "    j = i - 1\n",
        "    while j >= 0 and current < array[j]:\n",
        "      array[j+1] = array[j]\n",
        "      j -= 1\n",
        "    array[j+1] = current\n",
        "  return array\n",
        "\n",
        ""
      ],
      "metadata": {
        "id": "lxkZ8uiy766R"
      },
      "execution_count": null,
      "outputs": []
    },
    {
      "cell_type": "markdown",
      "source": [],
      "metadata": {
        "id": "CCNal4j2LBvf"
      }
    },
    {
      "cell_type": "code",
      "source": [
        "insertion_sort([10, 9, 8, 7, 6, 5, 4, 3, 2, 1, 0])"
      ],
      "metadata": {
        "colab": {
          "base_uri": "https://localhost:8080/"
        },
        "id": "WkF8wFHR__mc",
        "outputId": "336e43af-f3bc-4a6c-fff1-09314426914c"
      },
      "execution_count": null,
      "outputs": [
        {
          "output_type": "execute_result",
          "data": {
            "text/plain": [
              "[0, 1, 2, 3, 4, 5, 6, 7, 8, 9, 10]"
            ]
          },
          "metadata": {},
          "execution_count": 40
        }
      ]
    },
    {
      "cell_type": "code",
      "source": [],
      "metadata": {
        "id": "QQvyFnk2AGSp"
      },
      "execution_count": null,
      "outputs": []
    },
    {
      "cell_type": "markdown",
      "source": [
        "# Merge Sort"
      ],
      "metadata": {
        "id": "NcBMRgraHnI1"
      }
    },
    {
      "cell_type": "code",
      "source": [
        "def msort(x):\n",
        "    if len(x) < 2:\n",
        "        return x\n",
        "    result = []\n",
        "    mid = int(len(x) / 2)\n",
        "    y = msort(x[:mid])\n",
        "    z = msort(x[mid:])\n",
        "    i = 0\n",
        "    j = 0\n",
        "    while i < len(y) and j < len(z):\n",
        "        if y[i] > z[j]:\n",
        "            result.append(z[j])\n",
        "            j += 1\n",
        "        else:\n",
        "            result.append(y[i])\n",
        "            i += 1\n",
        "    result += y[i:]\n",
        "    result += z[j:]\n",
        "    return result"
      ],
      "metadata": {
        "id": "J4jJPuPRIdGM"
      },
      "execution_count": null,
      "outputs": []
    },
    {
      "cell_type": "code",
      "source": [
        "msort([10,2, 43, 5, 4, 32, 22, 2, 4 ])"
      ],
      "metadata": {
        "colab": {
          "base_uri": "https://localhost:8080/"
        },
        "id": "j69vLMupIkKp",
        "outputId": "1b8caa39-04dd-467b-930e-3cc3e9ef77ad"
      },
      "execution_count": null,
      "outputs": [
        {
          "output_type": "execute_result",
          "data": {
            "text/plain": [
              "[2, 2, 4, 4, 5, 10, 22, 32, 43]"
            ]
          },
          "metadata": {},
          "execution_count": 44
        }
      ]
    },
    {
      "cell_type": "code",
      "source": [],
      "metadata": {
        "id": "5wIT28_nIqvV"
      },
      "execution_count": null,
      "outputs": []
    },
    {
      "cell_type": "markdown",
      "source": [
        "# Quick sort"
      ],
      "metadata": {
        "id": "0f-IdXjSLCy0"
      }
    },
    {
      "cell_type": "code",
      "source": [
        "def quicksort(arr):\n",
        "    if len(arr) <= 1:\n",
        "        return arr\n",
        "    else:\n",
        "        pivot = arr[0]\n",
        "        left = [x for x in arr[1:] if x < pivot]\n",
        "        right = [x for x in arr[1:] if x >= pivot]\n",
        "        return quicksort(left) + [pivot] + quicksort(right)\n",
        "\n",
        "# Example usage\n",
        "arr = [1, 7, 4, 1, 10, 9, -2]\n",
        "sorted_arr = quicksort(arr)\n",
        "print(\"Sorted Array in Ascending Order:\")\n",
        "print(sorted_arr)"
      ],
      "metadata": {
        "id": "rnSSGrTbLFsh",
        "outputId": "4e0be359-6358-4a09-df01-6aa3dd579a8e",
        "colab": {
          "base_uri": "https://localhost:8080/"
        }
      },
      "execution_count": null,
      "outputs": [
        {
          "output_type": "stream",
          "name": "stdout",
          "text": [
            "Sorted Array in Ascending Order:\n",
            "[-2, 1, 1, 4, 7, 9, 10]\n"
          ]
        }
      ]
    },
    {
      "cell_type": "code",
      "source": [],
      "metadata": {
        "id": "rMBHt64qLGJp"
      },
      "execution_count": null,
      "outputs": []
    }
  ]
}