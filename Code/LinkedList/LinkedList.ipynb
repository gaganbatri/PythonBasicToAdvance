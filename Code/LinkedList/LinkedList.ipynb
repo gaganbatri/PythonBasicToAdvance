{
  "nbformat": 4,
  "nbformat_minor": 0,
  "metadata": {
    "colab": {
      "provenance": []
    },
    "kernelspec": {
      "name": "python3",
      "display_name": "Python 3"
    },
    "language_info": {
      "name": "python"
    }
  },
  "cells": [
    {
      "cell_type": "code",
      "execution_count": null,
      "metadata": {
        "colab": {
          "base_uri": "https://localhost:8080/"
        },
        "id": "D72TIsu2Ijwe",
        "outputId": "4e48746b-31b1-4923-a023-40f4f0c458a5"
      },
      "outputs": [
        {
          "output_type": "stream",
          "name": "stdout",
          "text": [
            "starting with linked list: 20-08-2024\n"
          ]
        }
      ],
      "source": [
        "print(\"starting with linked list: 20-08-2024\")"
      ]
    },
    {
      "cell_type": "code",
      "source": [
        "class Node(object):\n",
        "\n",
        "  def __init__(self, value, next=None) -> None:\n",
        "    self.value = value\n",
        "    self.next = next"
      ],
      "metadata": {
        "id": "6lOYA6nsJe6o"
      },
      "execution_count": null,
      "outputs": []
    },
    {
      "cell_type": "code",
      "source": [
        "class LinkedList(object):\n",
        "  def __init__(self, value) -> None:\n",
        "    new_node = Node(value)\n",
        "    self.head = new_node\n",
        "    self.tail = new_node\n",
        "    self.length = 1\n",
        "\n",
        "  def print_list(self):\n",
        "    temp = self.head\n",
        "    while temp is not None:\n",
        "      print(temp.value, end=\" \")\n",
        "      temp = temp.next\n",
        "    print(\", list size:\", self.length)\n",
        "    print()\n",
        "\n",
        "\n",
        "  def append(self, value):\n",
        "    print(\"adding value {} to the end...\".format(value))\n",
        "    new_node = Node(value)\n",
        "    if self.head is None:\n",
        "      self.head = new_node\n",
        "      self.tail = new_node\n",
        "    else:\n",
        "      self.tail.next = new_node\n",
        "      self.tail = new_node\n",
        "    self.length += 1\n",
        "    return True\n",
        "\n",
        "  def pop(self):\n",
        "    print(\"removing the item from end...\")\n",
        "    if self.length == 0:\n",
        "      return None\n",
        "\n",
        "    temp = self.head\n",
        "    pre = self.head\n",
        "    while temp.next is not None:\n",
        "      pre = temp\n",
        "      temp = temp.next\n",
        "    self.tail = pre\n",
        "    self.tail.next = None\n",
        "    self.length -= 1\n",
        "\n",
        "    if self.length == 0:\n",
        "      self.head = None\n",
        "      self.tail = None\n",
        "    return temp.value\n",
        "\n",
        "  def prepend(self, value):\n",
        "    new_node = Node(value)\n",
        "    if self.head is None:\n",
        "      self.head = new_node\n",
        "      self.tail = new_node\n",
        "    else:\n",
        "      new_node.next = self.head\n",
        "      self.head = new_node\n",
        "    self.length += 1\n",
        "    return True\n",
        "\n",
        "  def pop_first(self):\n",
        "    print(\"removing the item from the start...\")\n",
        "    if self.length == 0:\n",
        "      return None\n",
        "    temp = self.head\n",
        "    self.head = self.head.next\n",
        "    temp.next = None\n",
        "    self.length -= 1\n",
        "    if self.length == 0:\n",
        "      self.tail == None\n",
        "\n",
        "  def get(self, index):\n",
        "    if index <= 0 or index >= self.length:\n",
        "      return None\n",
        "    temp = self.head\n",
        "    for _ in range(index):\n",
        "      temp = temp.next\n",
        "    return temp\n",
        "\n",
        "  def set_value(self, index, value):\n",
        "    temp = self.get(index)\n",
        "    if temp:\n",
        "      temp.value = value\n",
        "      return True\n",
        "    return False\n",
        "\n",
        "  def insert(self, index, value):\n",
        "    if index < 0 or index > self.length:\n",
        "      return False\n",
        "\n",
        "    if self.length == 0:\n",
        "      return self.prepend(value)\n",
        "\n",
        "    if index == self.length:\n",
        "      return self.append(value)\n",
        "\n",
        "    temp = self.get(index-1)\n",
        "    new_node = Node(value)\n",
        "    new_node.next = temp.next\n",
        "    temp.next = new_node\n",
        "    self.length += 1\n",
        "    return True\n",
        "\n",
        "  def remove(self, index):\n",
        "    if index < 0 or index > self.length:\n",
        "      return False\n",
        "\n",
        "    if self.length == 0:\n",
        "      return self.pop_first()\n",
        "\n",
        "    if index == self.length:\n",
        "      return self.pop()\n",
        "\n",
        "    temp = self.get(index-1)\n",
        "    temp.next = temp.next.next\n",
        "\n",
        "    # other way\n",
        "    # pre = self.get(index-1)\n",
        "    # temp = pre.next\n",
        "    # pre.next = temp.next\n",
        "    # temp.next = None\n",
        "    self.length -= 1\n",
        "    return temp\n",
        "\n",
        "  def reverse(self):\n",
        "    #swap head and tail\n",
        "    # self.head, self.tail = self.tail, self.head\n",
        "    temp = self.head\n",
        "    self.head = self.tail\n",
        "    self.tail = temp\n",
        "\n",
        "    after = temp.next\n",
        "    before = None\n",
        "    for _ in range(self.length):\n",
        "      after = temp.next\n",
        "      temp.next = before\n",
        "      before = temp\n",
        "      temp = after\n",
        "\n",
        "\n",
        "\n",
        "\n",
        "\n",
        "\n",
        "\n"
      ],
      "metadata": {
        "id": "zFB8HWDiIztx"
      },
      "execution_count": null,
      "outputs": []
    },
    {
      "cell_type": "code",
      "source": [
        "my_linked_list = LinkedList(4)\n",
        "print(\"Head is:\", my_linked_list.head.value)\n",
        "my_linked_list.append(2)\n",
        "my_linked_list.append(5)\n",
        "my_linked_list.append(6)\n",
        "my_linked_list.print_list()\n",
        "my_linked_list.pop()\n",
        "my_linked_list.print_list()\n",
        "my_linked_list.pop()\n",
        "my_linked_list.print_list()\n",
        "my_linked_list.pop()\n",
        "my_linked_list.print_list()\n",
        "my_linked_list.pop()\n",
        "my_linked_list.print_list()\n",
        "my_linked_list.prepend(7)\n",
        "my_linked_list.print_list()\n",
        "my_linked_list.prepend(9)\n",
        "my_linked_list.print_list()\n",
        "my_linked_list.pop_first()\n",
        "my_linked_list.print_list()\n",
        "my_linked_list.pop_first()\n",
        "my_linked_list.print_list()"
      ],
      "metadata": {
        "colab": {
          "base_uri": "https://localhost:8080/"
        },
        "id": "TC0GW_MTKhsZ",
        "outputId": "ebedcc89-5a57-4f57-b7cd-90aca27b3db2"
      },
      "execution_count": null,
      "outputs": [
        {
          "output_type": "stream",
          "name": "stdout",
          "text": [
            "Head is: 4\n",
            "adding value 2 to the end...\n",
            "adding value 5 to the end...\n",
            "adding value 6 to the end...\n",
            "4 2 5 6 , list size: 4\n",
            "\n",
            "removing the item from end...\n",
            "4 2 5 , list size: 3\n",
            "\n",
            "removing the item from end...\n",
            "4 2 , list size: 2\n",
            "\n",
            "removing the item from end...\n",
            "4 , list size: 1\n",
            "\n",
            "removing the item from end...\n",
            ", list size: 0\n",
            "\n",
            "7 , list size: 1\n",
            "\n",
            "9 7 , list size: 2\n",
            "\n",
            "removing the item from the start...\n",
            "7 , list size: 1\n",
            "\n",
            "removing the item from the start...\n",
            ", list size: 0\n",
            "\n"
          ]
        }
      ]
    },
    {
      "cell_type": "code",
      "source": [
        "my_linked_list = LinkedList(4)\n",
        "print(\"Head is:\", my_linked_list.head.value)\n",
        "my_linked_list.append(2)\n",
        "my_linked_list.append(5)\n",
        "my_linked_list.append(6)\n",
        "my_linked_list.print_list()\n",
        "print(\"value at index {} is {}\".format(2, my_linked_list.get(2).value))\n",
        "my_linked_list.set_value(2, 10)\n",
        "my_linked_list.print_list()\n",
        "my_linked_list.set_value(2, 11)\n",
        "my_linked_list.print_list()\n",
        "my_linked_list.remove(2)\n",
        "my_linked_list.print_list()\n",
        "my_linked_list.remove(2)\n",
        "my_linked_list.print_list()\n"
      ],
      "metadata": {
        "colab": {
          "base_uri": "https://localhost:8080/"
        },
        "id": "kUnKJK01KjzG",
        "outputId": "dcc8ec0d-845b-47e2-f05c-808d49f83ed9"
      },
      "execution_count": null,
      "outputs": [
        {
          "output_type": "stream",
          "name": "stdout",
          "text": [
            "Head is: 4\n",
            "adding value 2 to the end...\n",
            "adding value 5 to the end...\n",
            "adding value 6 to the end...\n",
            "4 2 5 6 , list size: 4\n",
            "\n",
            "value at index 2 is 5\n",
            "4 2 10 6 , list size: 4\n",
            "\n",
            "4 2 11 6 , list size: 4\n",
            "\n",
            "4 2 6 , list size: 3\n",
            "\n",
            "4 2 , list size: 2\n",
            "\n"
          ]
        }
      ]
    },
    {
      "cell_type": "code",
      "source": [
        "my_linked_list = LinkedList(4)\n",
        "print(\"Head is:\", my_linked_list.head.value)\n",
        "my_linked_list.append(2)\n",
        "my_linked_list.append(5)\n",
        "my_linked_list.append(6)\n",
        "my_linked_list.append(3)\n",
        "my_linked_list.print_list()\n",
        "my_linked_list.reverse()\n",
        "my_linked_list.print_list()"
      ],
      "metadata": {
        "colab": {
          "base_uri": "https://localhost:8080/"
        },
        "id": "eb__rOczVqvI",
        "outputId": "0c3201b1-2562-4b13-dd3f-000eecf2d48e"
      },
      "execution_count": null,
      "outputs": [
        {
          "output_type": "stream",
          "name": "stdout",
          "text": [
            "Head is: 4\n",
            "adding value 2 to the end...\n",
            "adding value 5 to the end...\n",
            "adding value 6 to the end...\n",
            "adding value 3 to the end...\n",
            "4 2 5 6 3 , list size: 5\n",
            "\n",
            "3 6 5 2 4 , list size: 5\n",
            "\n"
          ]
        }
      ]
    },
    {
      "cell_type": "markdown",
      "source": [
        "Find Middle of the Linked List using **Floyd’s Cycle Finding Algorithm**:\n",
        "We can use the Floyd’s Cycle Finding Algorithm, also known as Hare and Tortoise Algorithm to find the middle of the linked list. Traverse linked list using a slow pointer and a fast pointer. Move the slow pointer to the next node(one node forward) and the fast pointer to the next of the next node(two nodes forward). When the fast pointer reaches the last node or NULL, then the slow pointer will reach the middle of the linked list.\n",
        "In case of odd number of nodes in the linked list, slow_ptr will reach the middle node when fast_ptr will reach the last node and in case of even number of nodes in the linked list, slow_ptr will reach the middle node when fast_ptr will become NULL.\n",
        "\n",
        "LL: Find Middle Node ( ** Interview Question)\n",
        "Implement the find_middle_node method for the LinkedList class.\n",
        "\n",
        "Note: this LinkedList implementation does not have a length member variable.\n",
        "\n",
        "If the linked list has an even number of nodes, return the first node of the second half of the list.\n",
        "\n",
        "Keep in mind the following requirements:\n",
        "\n",
        "The method should use a two-pointer approach, where one pointer (slow) moves one node at a time and the other pointer (fast) moves two nodes at a time.\n",
        "\n",
        "When the fast pointer reaches the end of the list or has no next node, the slow pointer should be at the middle node of the list.\n",
        "\n",
        "The method should return the middle node when the number of nodes is odd or the first node of the second half of the list if the list has an even number of nodes.\n",
        "\n",
        "The method should only traverse the linked list once.  In other words, you can only use one loop."
      ],
      "metadata": {
        "id": "LZ16pyrJzeOk"
      }
    },
    {
      "cell_type": "code",
      "source": [
        "class Node(object):\n",
        "\n",
        "  def __init__(self, value, next=None) -> None:\n",
        "    self.value = value\n",
        "    self.next = next"
      ],
      "metadata": {
        "id": "EQGJm8Uuz6xF"
      },
      "execution_count": null,
      "outputs": []
    },
    {
      "cell_type": "code",
      "source": [
        "class LinkedList:\n",
        "    def __init__(self, value):\n",
        "        new_node = Node(value)\n",
        "        self.head = new_node\n",
        "        self.tail = new_node\n",
        "\n",
        "\n",
        "    def append(self, value):\n",
        "        new_node = Node(value)\n",
        "        if self.head == None:\n",
        "            self.head = new_node\n",
        "            self.tail = new_node\n",
        "        else:\n",
        "            self.tail.next = new_node\n",
        "            self.tail = new_node\n",
        "        return True\n",
        "\n",
        "\n",
        "    # def find_middle_node(self):\n",
        "    #     node_1step = self.head\n",
        "    #     node_2step = self.head\n",
        "    #     while node_2step.next and node_2step.next.next:\n",
        "    #         node_1step = node_1step.next\n",
        "    #         node_2step = node_2step.next.next\n",
        "    #     return node_1step if not node_2step.next else node_1step.next\n",
        "\n",
        "    def find_middle_node(self):\n",
        "      slow_pointer = self.head\n",
        "      fast_pointer = self.head\n",
        "      while fast_pointer and fast_pointer.next:\n",
        "        fast_pointer = fast_pointer.next.next\n",
        "        slow_pointer = slow_pointer.next\n",
        "      return slow_pointer\n",
        "\n",
        "\n",
        "\n",
        "\n",
        "\n",
        "my_linked_list = LinkedList(1)\n",
        "my_linked_list.append(2)\n",
        "my_linked_list.append(3)\n",
        "my_linked_list.append(4)\n",
        "my_linked_list.append(5)\n",
        "\n",
        "print( my_linked_list.find_middle_node().value )"
      ],
      "metadata": {
        "colab": {
          "base_uri": "https://localhost:8080/"
        },
        "id": "UAGuvMszz-kT",
        "outputId": "d3fe1a9d-5181-462a-ceee-36c0509a7245"
      },
      "execution_count": null,
      "outputs": [
        {
          "output_type": "stream",
          "name": "stdout",
          "text": [
            "3\n"
          ]
        }
      ]
    },
    {
      "cell_type": "code",
      "source": [],
      "metadata": {
        "id": "_ot7b6G80sj1"
      },
      "execution_count": null,
      "outputs": []
    },
    {
      "cell_type": "markdown",
      "source": [
        "LL: Has Loop ( ** Interview Question)\n",
        "Write a method called has_loop that is part of the linked list class.\n",
        "\n",
        "The method should be able to detect if there is a cycle or loop present in the linked list.\n",
        "\n",
        "You are required to use Floyd's cycle-finding algorithm (also known as the \"tortoise and the hare\" algorithm) to detect the loop.\n",
        "\n",
        "This algorithm uses two pointers: a slow pointer and a fast pointer. The slow pointer moves one step at a time, while the fast pointer moves two steps at a time. If there is a loop in the linked list, the two pointers will eventually meet at some point. If there is no loop, the fast pointer will reach the end of the list.\n",
        "\n",
        "The method should follow these guidelines:\n",
        "\n",
        "\n",
        "\n",
        "Create two pointers, slow and fast, both initially pointing to the head of the linked list.\n",
        "\n",
        "Traverse the list with the slow pointer moving one step at a time, while the fast pointer moves two steps at a time.\n",
        "\n",
        "If there is a loop in the list, the fast pointer will eventually meet the slow pointer. If this occurs, the method should return True.\n",
        "\n",
        "If the fast pointer reaches the end of the list or encounters a None value, it means there is no loop in the list. In this case, the method should return False.\n",
        "\n",
        "If your Linked List contains a loop, it indicates a flaw in its implementation. This situation can manifest in several ways:\n"
      ],
      "metadata": {
        "id": "4j9UXc6d2D8d"
      }
    },
    {
      "cell_type": "code",
      "source": [
        "class Node:\n",
        "    def __init__(self, value):\n",
        "        self.value = value\n",
        "        self.next = None\n",
        "\n",
        "class LinkedList:\n",
        "    def __init__(self, value):\n",
        "        new_node = Node(value)\n",
        "        self.head = new_node\n",
        "        self.tail = new_node\n",
        "        self.length = 1\n",
        "\n",
        "    def append(self, value):\n",
        "        new_node = Node(value)\n",
        "        if self.length == 0:\n",
        "            self.head = new_node\n",
        "            self.tail = new_node\n",
        "        else:\n",
        "            self.tail.next = new_node\n",
        "            self.tail = new_node\n",
        "        self.length += 1\n",
        "        return True\n",
        "\n",
        "    def has_loop(self):\n",
        "        slow_pointer = self.head\n",
        "        fast_pointer = self.head\n",
        "        while fast_pointer and fast_pointer.next:\n",
        "            fast_pointer = fast_pointer.next.next\n",
        "            slow_pointer = slow_pointer.next\n",
        "            if slow_pointer == fast_pointer:\n",
        "                return True\n",
        "        return False\n",
        "\n",
        "\n",
        "\n",
        "\n",
        "\n",
        "my_linked_list_1 = LinkedList(1)\n",
        "my_linked_list_1.append(2)\n",
        "my_linked_list_1.append(3)\n",
        "my_linked_list_1.append(4)\n",
        "my_linked_list_1.tail.next = my_linked_list_1.head\n",
        "print(my_linked_list_1.has_loop() ) # Returns True\n",
        "\n",
        "\n",
        "\n",
        "\n",
        "my_linked_list_2 = LinkedList(1)\n",
        "my_linked_list_2.append(2)\n",
        "my_linked_list_2.append(3)\n",
        "my_linked_list_2.append(4)\n",
        "print(my_linked_list_2.has_loop() ) # Returns False"
      ],
      "metadata": {
        "colab": {
          "base_uri": "https://localhost:8080/"
        },
        "id": "2PpC9y972IBG",
        "outputId": "bfda6e19-86eb-48a6-f005-63742fba439a"
      },
      "execution_count": null,
      "outputs": [
        {
          "output_type": "stream",
          "name": "stdout",
          "text": [
            "True\n",
            "False\n"
          ]
        }
      ]
    },
    {
      "cell_type": "code",
      "source": [],
      "metadata": {
        "id": "eg9OfJ8p2JqT"
      },
      "execution_count": null,
      "outputs": []
    },
    {
      "cell_type": "markdown",
      "source": [
        "LL: Find Kth Node From End ( ** Interview Question)\n",
        "Implement the find_kth_from_end function, which takes the LinkedList (ll) and an integer k as input, and returns the k-th node from the end of the linked list WITHOUT USING LENGTH.\n",
        "\n",
        "Given this LinkedList:\n",
        "\n",
        "1 -> 2 -> 3 -> 4\n",
        "\n",
        "If k=1 then return the first node from the end (the last node) which contains the value of 4.\n",
        "\n",
        "If k=2 then return the second node from the end which contains the value of 3, etc.\n",
        "\n",
        "If the index is out of bounds, the program should return None.\n",
        "\n",
        "The find_kth_from_end function should follow these requirements:\n",
        "\n",
        "The function should utilize two pointers, slow and fast, initialized to the head of the linked list.\n",
        "\n",
        "The fast pointer should move k nodes ahead in the list.\n",
        "\n",
        "If the fast pointer becomes None before moving k nodes, the function should return None, as the list is shorter than k nodes.\n",
        "\n",
        "The slow and fast pointers should then move forward in the list at the same time until the fast pointer reaches the end of the list.\n",
        "\n",
        "The function should return the slow pointer, which will be at the k-th position from the end of the list.\n",
        "\n",
        "\n",
        "\n",
        "This is a separate function that is not a method within the LinkedList class. This means you need to indent the function all the way to the LEFT."
      ],
      "metadata": {
        "id": "AKgV4bDd2XN_"
      }
    },
    {
      "cell_type": "code",
      "source": [
        "class Node:\n",
        "    def __init__(self, value):\n",
        "        self.value = value\n",
        "        self.next = None\n",
        "\n",
        "\n",
        "class LinkedList:\n",
        "    def __init__(self, value):\n",
        "        new_node = Node(value)\n",
        "        self.head = new_node\n",
        "        self.tail = new_node\n",
        "\n",
        "\n",
        "    def append(self, value):\n",
        "        new_node = Node(value)\n",
        "        if self.head == None:\n",
        "            self.head = new_node\n",
        "            self.tail = new_node\n",
        "        else:\n",
        "            self.tail.next = new_node\n",
        "            self.tail = new_node\n",
        "        return True\n",
        "\n",
        "\n",
        "\n",
        "def find_kth_from_end(my_ll, k):\n",
        "    if k < 0:\n",
        "        return None\n",
        "    slow = my_ll.head\n",
        "    fast = my_ll.head\n",
        "    for _ in range(k):\n",
        "        if fast is None:\n",
        "            return None\n",
        "        fast = fast.next\n",
        "    while fast:\n",
        "        fast = fast.next\n",
        "        slow = slow.next\n",
        "    return slow\n",
        "\n",
        "\n",
        "\n",
        "\n",
        "\n",
        "\n",
        "my_linked_list = LinkedList(1)\n",
        "my_linked_list.append(2)\n",
        "my_linked_list.append(3)\n",
        "my_linked_list.append(4)\n",
        "my_linked_list.append(5)\n",
        "\n",
        "\n",
        "k = 2\n",
        "result = find_kth_from_end(my_linked_list, k)\n",
        "\n",
        "print(result.value)  # Output: 4\n",
        "\n",
        "\n",
        "\n",
        "\"\"\"\n",
        "    EXPECTED OUTPUT:\n",
        "    ----------------\n",
        "    4\n",
        "\n",
        "\"\"\"\n",
        "\n"
      ],
      "metadata": {
        "colab": {
          "base_uri": "https://localhost:8080/",
          "height": 53
        },
        "id": "kM2t8Mpo2YK6",
        "outputId": "ae54fa5f-a411-43ce-ffb5-3558b5a7254f"
      },
      "execution_count": null,
      "outputs": [
        {
          "output_type": "stream",
          "name": "stdout",
          "text": [
            "4\n"
          ]
        },
        {
          "output_type": "execute_result",
          "data": {
            "text/plain": [
              "'\\n    EXPECTED OUTPUT:\\n    ----------------\\n    4\\n    \\n'"
            ],
            "application/vnd.google.colaboratory.intrinsic+json": {
              "type": "string"
            }
          },
          "metadata": {},
          "execution_count": 5
        }
      ]
    },
    {
      "cell_type": "code",
      "source": [],
      "metadata": {
        "id": "vUDO9E5p_V4Y"
      },
      "execution_count": null,
      "outputs": []
    }
  ]
}