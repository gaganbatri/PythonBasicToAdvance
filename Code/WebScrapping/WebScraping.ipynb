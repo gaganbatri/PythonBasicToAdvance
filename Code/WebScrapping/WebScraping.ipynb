{
 "cells": [
  {
   "cell_type": "code",
   "execution_count": null,
   "id": "b83e5b14",
   "metadata": {},
   "outputs": [],
   "source": [
    "# !pip install autoscraper"
   ]
  },
  {
   "cell_type": "code",
   "execution_count": 1,
   "id": "65fde7fd",
   "metadata": {},
   "outputs": [],
   "source": [
    "from autoscraper import AutoScraper\n",
    "scraper = AutoScraper()"
   ]
  },
  {
   "cell_type": "code",
   "execution_count": null,
   "id": "573742c2",
   "metadata": {},
   "outputs": [],
   "source": [
    "url1 = \"https://github.com/gaganbatri?tab=repositories\"\n",
    "url2 = 'https://github.com/krishnaik06'"
   ]
  },
  {
   "cell_type": "code",
   "execution_count": null,
   "id": "123914e3",
   "metadata": {},
   "outputs": [],
   "source": [
    "wanted_list = ['The-Grand-Complete-Data-Science-Materials']"
   ]
  },
  {
   "cell_type": "code",
   "execution_count": null,
   "id": "bf3b09c6",
   "metadata": {},
   "outputs": [],
   "source": []
  },
  {
   "cell_type": "code",
   "execution_count": null,
   "id": "40c14a44",
   "metadata": {},
   "outputs": [],
   "source": [
    "result = scraper.build(url2, wanted_list)\n",
    "print(result)"
   ]
  },
  {
   "cell_type": "code",
   "execution_count": null,
   "id": "898eddc9",
   "metadata": {},
   "outputs": [],
   "source": [
    "result = scraper.get_result_similar(url2, grouped=True)\n",
    "result"
   ]
  },
  {
   "cell_type": "code",
   "execution_count": null,
   "id": "62bef8bc",
   "metadata": {},
   "outputs": [],
   "source": [
    "key = list(result.keys())[0]\n",
    "rule = {key: 'Title'}\n",
    "scraper.set_rule_aliases(rule)\n",
    "scraper.keep_rules(rule.keys())\n",
    "scraper.save(\"first_search\")"
   ]
  },
  {
   "cell_type": "code",
   "execution_count": null,
   "id": "31620ed8",
   "metadata": {},
   "outputs": [],
   "source": [
    "scraper.load('first_search')"
   ]
  },
  {
   "cell_type": "code",
   "execution_count": null,
   "id": "fd51968c",
   "metadata": {},
   "outputs": [],
   "source": [
    "result = scraper.get_result_similar(url1, group_by_alias=True)"
   ]
  },
  {
   "cell_type": "code",
   "execution_count": null,
   "id": "47af345c",
   "metadata": {},
   "outputs": [],
   "source": [
    "result['Title']"
   ]
  },
  {
   "cell_type": "markdown",
   "id": "4d835ee2",
   "metadata": {},
   "source": [
    "## Webscraping Amazon"
   ]
  },
  {
   "cell_type": "code",
   "execution_count": 5,
   "id": "8aade04f",
   "metadata": {},
   "outputs": [],
   "source": [
    "from autoscraper import AutoScraper\n",
    "scraper = AutoScraper()"
   ]
  },
  {
   "cell_type": "code",
   "execution_count": 6,
   "id": "6e4cf2cc",
   "metadata": {},
   "outputs": [],
   "source": [
    "url = \"https://www.amazon.in/s?k=jabra+earbuds&crid=K9D8CFEGT6QG&sprefix=jabra+%2Caps%2C298&ref=nb_sb_ss_ts-doa-p_2_6\""
   ]
  },
  {
   "cell_type": "code",
   "execution_count": 7,
   "id": "7b5c4b76",
   "metadata": {},
   "outputs": [],
   "source": [
    "wanted_list = ['₹5,299', 'Jabra Elite 4 Active in Ear Bluetooth Earbuds Truly Wireless with mic, Secure Active Fit, Active Noise Cancellation and Adjustable HearThrough Technology - Navy']"
   ]
  },
  {
   "cell_type": "code",
   "execution_count": 8,
   "id": "3bca582e",
   "metadata": {},
   "outputs": [
    {
     "data": {
      "text/plain": [
       "[]"
      ]
     },
     "execution_count": 8,
     "metadata": {},
     "output_type": "execute_result"
    }
   ],
   "source": [
    "result = scraper.build(url, wanted_list)\n",
    "result"
   ]
  },
  {
   "cell_type": "code",
   "execution_count": null,
   "id": "c59f9fd7",
   "metadata": {},
   "outputs": [],
   "source": []
  }
 ],
 "metadata": {
  "kernelspec": {
   "display_name": "Python 3 (ipykernel)",
   "language": "python",
   "name": "python3"
  },
  "language_info": {
   "codemirror_mode": {
    "name": "ipython",
    "version": 3
   },
   "file_extension": ".py",
   "mimetype": "text/x-python",
   "name": "python",
   "nbconvert_exporter": "python",
   "pygments_lexer": "ipython3",
   "version": "3.9.7"
  }
 },
 "nbformat": 4,
 "nbformat_minor": 5
}
