{
 "cells": [
  {
   "cell_type": "markdown",
   "id": "00047468",
   "metadata": {},
   "source": [
    "## Decorator\n",
    "Decorators are a design pattern which  is used to alter or extent the behavior of a function, without modifying it's implementation.\n",
    "\n",
    "Below code explain the time it decorator which print the time used by a function."
   ]
  },
  {
   "cell_type": "code",
   "execution_count": 1,
   "id": "7a2a4723",
   "metadata": {},
   "outputs": [],
   "source": [
    "import time"
   ]
  },
  {
   "cell_type": "code",
   "execution_count": 2,
   "id": "f392a38c",
   "metadata": {},
   "outputs": [],
   "source": [
    "def time_it(func):\n",
    "    def wrapper(*args, **kwargs):\n",
    "        print(\"calculating start time...\")\n",
    "        start = time.time()\n",
    "        result = func(*args, **kwargs)\n",
    "        print(\"calculating end time...\")\n",
    "        end = time.time()\n",
    "        print(f\"{func.__name__} took {(end-start)*1000} ms\")\n",
    "        return result\n",
    "    return wrapper"
   ]
  },
  {
   "cell_type": "code",
   "execution_count": 5,
   "id": "9a710e0c",
   "metadata": {},
   "outputs": [],
   "source": [
    "@time_it\n",
    "def find_cube(number_array):\n",
    "    lst = []\n",
    "    for num in number_array:\n",
    "        lst.append(num**3)\n",
    "    return lst"
   ]
  },
  {
   "cell_type": "code",
   "execution_count": 4,
   "id": "2f1860ff",
   "metadata": {},
   "outputs": [],
   "source": [
    "l = find_cube(list(range(1, 1000)))"
   ]
  },
  {
   "cell_type": "markdown",
   "id": "bfa4ef21",
   "metadata": {},
   "source": [
    "with decorator"
   ]
  },
  {
   "cell_type": "code",
   "execution_count": 6,
   "id": "f904aa85",
   "metadata": {},
   "outputs": [
    {
     "name": "stdout",
     "output_type": "stream",
     "text": [
      "calculating start time...\n",
      "calculating end time...\n",
      "find_cube took 29.62946891784668 ms\n"
     ]
    }
   ],
   "source": [
    "l = find_cube(list(range(1, 100000)))"
   ]
  },
  {
   "cell_type": "code",
   "execution_count": null,
   "id": "59138898",
   "metadata": {},
   "outputs": [],
   "source": []
  }
 ],
 "metadata": {
  "kernelspec": {
   "display_name": "Python 3 (ipykernel)",
   "language": "python",
   "name": "python3"
  },
  "language_info": {
   "codemirror_mode": {
    "name": "ipython",
    "version": 3
   },
   "file_extension": ".py",
   "mimetype": "text/x-python",
   "name": "python",
   "nbconvert_exporter": "python",
   "pygments_lexer": "ipython3",
   "version": "3.9.7"
  }
 },
 "nbformat": 4,
 "nbformat_minor": 5
}
