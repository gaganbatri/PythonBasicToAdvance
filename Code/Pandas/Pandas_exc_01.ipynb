{
 "cells": [
  {
   "cell_type": "code",
   "execution_count": 2,
   "id": "03dcb207",
   "metadata": {},
   "outputs": [
    {
     "name": "stdout",
     "output_type": "stream",
     "text": [
      "Series([], dtype: float64)\n"
     ]
    },
    {
     "name": "stderr",
     "output_type": "stream",
     "text": [
      "C:\\Users\\hp5cd\\AppData\\Local\\Temp/ipykernel_11432/755669514.py:3: DeprecationWarning: The default dtype for empty Series will be 'object' instead of 'float64' in a future version. Specify a dtype explicitly to silence this warning.\n",
      "  s = pd.Series()\n"
     ]
    }
   ],
   "source": [
    "import pandas as pd\n",
    "import numpy as np\n",
    "s = pd.Series()\n",
    "print(s)"
   ]
  },
  {
   "cell_type": "code",
   "execution_count": 24,
   "id": "12761264",
   "metadata": {},
   "outputs": [
    {
     "name": "stdout",
     "output_type": "stream",
     "text": [
      "     0\n",
      "100  a\n",
      "101  b\n",
      "102  c\n",
      "103  d\n"
     ]
    }
   ],
   "source": []
  },
  {
   "cell_type": "code",
   "execution_count": 3,
   "id": "4f74322d",
   "metadata": {},
   "outputs": [
    {
     "name": "stdout",
     "output_type": "stream",
     "text": [
      "1\n"
     ]
    }
   ],
   "source": [
    "s = pd.Series([1,2,3,4,5], index=['a', 'b', 'c', 'd', 'e'])\n",
    "print(s['a'])"
   ]
  },
  {
   "cell_type": "code",
   "execution_count": 7,
   "id": "18b64a97",
   "metadata": {},
   "outputs": [
    {
     "name": "stdout",
     "output_type": "stream",
     "text": [
      "            0\n",
      "0      Python\n",
      "1      Pandas\n",
      "2          Is\n",
      "3         Not\n",
      "4        That\n",
      "5  Difficult!\n",
      "6      At all\n"
     ]
    }
   ],
   "source": [
    "import pandas as pd\n",
    " \n",
    "# list of strings\n",
    "lst = ['Python', 'Pandas', 'Is', 'Not', 'That', 'Difficult!', 'At all']\n",
    " \n",
    "# Calling DataFrame constructor on list\n",
    "df = pd.DataFrame(lst)\n",
    "print(df)\n",
    "# first 0 is the column "
   ]
  },
  {
   "cell_type": "code",
   "execution_count": 8,
   "id": "6a45c18d",
   "metadata": {},
   "outputs": [
    {
     "name": "stdout",
     "output_type": "stream",
     "text": [
      "       Name  Age\n",
      "0      Lisa   20\n",
      "1  Shahrukh   21\n",
      "2     Rohan   19\n",
      "3   Michael   18\n"
     ]
    }
   ],
   "source": [
    "import pandas as pd\n",
    "data = {'Name':['Lisa', 'Shahrukh', 'Rohan', 'Michael'], 'Age': [20, 21, 19, 18]}\n",
    "df = pd.DataFrame(data)\n",
    "print(df)"
   ]
  },
  {
   "cell_type": "code",
   "execution_count": 10,
   "id": "63c412ba",
   "metadata": {},
   "outputs": [
    {
     "name": "stdout",
     "output_type": "stream",
     "text": [
      "Name\n",
      "Avery Bradley    25.0\n",
      "Jae Crowder      25.0\n",
      "John Holland     27.0\n",
      "R.J. Hunter      22.0\n",
      "Jonas Jerebko    29.0\n",
      "                 ... \n",
      "Shelvin Mack     26.0\n",
      "Raul Neto        24.0\n",
      "Tibor Pleiss     26.0\n",
      "Jeff Withey      26.0\n",
      "NaN               NaN\n",
      "Name: Age, Length: 458, dtype: float64\n"
     ]
    }
   ],
   "source": [
    "import pandas as pd\n",
    "data = pd.read_csv(r\"C:\\Gagan\\Programming\\Pyhton Projects\\myexcel.csv\", index_col=\"Name\")\n",
    "first = data['Age']\n",
    "print(first)"
   ]
  },
  {
   "cell_type": "code",
   "execution_count": 12,
   "id": "fed86471",
   "metadata": {},
   "outputs": [
    {
     "name": "stdout",
     "output_type": "stream",
     "text": [
      "   First Score  Second Score  Third Score\n",
      "0        False         False         True\n",
      "1        False         False        False\n",
      "2         True         False        False\n",
      "3        False          True        False\n"
     ]
    }
   ],
   "source": [
    "# finding empty nan data\n",
    "import pandas as pd\n",
    "import numpy as np\n",
    "dict_1 = {'First Score': [100, 90, np.nan, 95],\n",
    "        'Second Score': [30, 45, 56, np.nan],\n",
    "        'Third Score': [np.nan, 40, 80, 98]}\n",
    "df = pd.DataFrame(dict_1)\n",
    "print(df.isnull())\n"
   ]
  },
  {
   "cell_type": "code",
   "execution_count": 14,
   "id": "f9e2f929",
   "metadata": {},
   "outputs": [
    {
     "name": "stdout",
     "output_type": "stream",
     "text": [
      "                         Team  Number Position   Age Height  Weight  \\\n",
      "Name                                                                  \n",
      "Jae Crowder    Boston Celtics    99.0       SF  25.0    6-6   235.0   \n",
      "Jonas Jerebko  Boston Celtics     8.0       PF  29.0   6-10   231.0   \n",
      "Amir Johnson   Boston Celtics    90.0       PF  29.0    6-9   240.0   \n",
      "Jordan Mickey  Boston Celtics    55.0       PF  21.0    6-8   235.0   \n",
      "Kelly Olynyk   Boston Celtics    41.0        C  25.0    7-0   238.0   \n",
      "...                       ...     ...      ...   ...    ...     ...   \n",
      "Shelvin Mack        Utah Jazz     8.0       PG  26.0    6-3   203.0   \n",
      "Raul Neto           Utah Jazz    25.0       PG  24.0    6-1   179.0   \n",
      "Tibor Pleiss        Utah Jazz    21.0        C  26.0    7-3   256.0   \n",
      "Jeff Withey         Utah Jazz    24.0        C  26.0    7-0   231.0   \n",
      "NaN                       NaN     NaN      NaN   NaN    NaN     NaN   \n",
      "\n",
      "                 College      Salary  \n",
      "Name                                  \n",
      "Jae Crowder    Marquette   6796117.0  \n",
      "Jonas Jerebko        NaN   5000000.0  \n",
      "Amir Johnson         NaN  12000000.0  \n",
      "Jordan Mickey        LSU   1170960.0  \n",
      "Kelly Olynyk     Gonzaga   2165160.0  \n",
      "...                  ...         ...  \n",
      "Shelvin Mack      Butler   2433333.0  \n",
      "Raul Neto            NaN    900000.0  \n",
      "Tibor Pleiss         NaN   2900000.0  \n",
      "Jeff Withey       Kansas    947276.0  \n",
      "NaN                  NaN         NaN  \n",
      "\n",
      "[455 rows x 8 columns]\n"
     ]
    }
   ],
   "source": [
    "import pandas as pd\n",
    "data = pd.read_csv(r\"C:\\Gagan\\Programming\\Pyhton Projects\\myexcel.csv\", index_col=\"Name\")\n",
    "data.drop([\"Avery Bradley\", \"John Holland\", \"R.J. Hunter\", \"R.J. Hunter\"], inplace=True)\n",
    "print(data)"
   ]
  },
  {
   "cell_type": "code",
   "execution_count": 16,
   "id": "5d0adc8a",
   "metadata": {},
   "outputs": [
    {
     "name": "stdout",
     "output_type": "stream",
     "text": [
      "                                   Team  Number Position   Age Height  Weight  \\\n",
      "Name                                                                            \n",
      "Avery Bradley            Boston Celtics     0.0       PG  25.0    6-2   180.0   \n",
      "Jae Crowder              Boston Celtics    99.0       SF  25.0    6-6   235.0   \n",
      "John Holland             Boston Celtics    30.0       SG  27.0    6-5   205.0   \n",
      "R.J. Hunter              Boston Celtics    28.0       SG  22.0    6-5   185.0   \n",
      "Jonas Jerebko            Boston Celtics     8.0       PF  29.0   6-10   231.0   \n",
      "Amir Johnson             Boston Celtics    90.0       PF  29.0    6-9   240.0   \n",
      "Jordan Mickey            Boston Celtics    55.0       PF  21.0    6-8   235.0   \n",
      "Kelly Olynyk             Boston Celtics    41.0        C  25.0    7-0   238.0   \n",
      "Terry Rozier             Boston Celtics    12.0       PG  22.0    6-2   190.0   \n",
      "Marcus Smart             Boston Celtics    36.0       PG  22.0    6-4   220.0   \n",
      "Jared Sullinger          Boston Celtics     7.0        C  24.0    6-9   260.0   \n",
      "Isaiah Thomas            Boston Celtics     4.0       PG  27.0    5-9   185.0   \n",
      "Evan Turner              Boston Celtics    11.0       SG  27.0    6-7   220.0   \n",
      "James Young              Boston Celtics    13.0       SG  20.0    6-6   215.0   \n",
      "Tyler Zeller             Boston Celtics    44.0        C  26.0    7-0   253.0   \n",
      "Bojan Bogdanovic          Brooklyn Nets    44.0       SG  27.0    6-8   216.0   \n",
      "Markel Brown              Brooklyn Nets    22.0       SG  24.0    6-3   190.0   \n",
      "Wayne Ellington           Brooklyn Nets    21.0       SG  28.0    6-4   200.0   \n",
      "Rondae Hollis-Jefferson   Brooklyn Nets    24.0       SG  21.0    6-7   220.0   \n",
      "Jarrett Jack              Brooklyn Nets     2.0       PG  32.0    6-3   200.0   \n",
      "Sergey Karasev            Brooklyn Nets    10.0       SG  22.0    6-7   208.0   \n",
      "Sean Kilpatrick           Brooklyn Nets     6.0       SG  26.0    6-4   219.0   \n",
      "Shane Larkin              Brooklyn Nets     0.0       PG  23.0   5-11   175.0   \n",
      "Brook Lopez               Brooklyn Nets    11.0        C  28.0    7-0   275.0   \n",
      "Chris McCullough          Brooklyn Nets     1.0       PF  21.0   6-11   200.0   \n",
      "Willie Reed               Brooklyn Nets    33.0       PF  26.0   6-10   220.0   \n",
      "\n",
      "                                   College      Salary  \n",
      "Name                                                    \n",
      "Avery Bradley                        Texas   7730337.0  \n",
      "Jae Crowder                      Marquette   6796117.0  \n",
      "John Holland             Boston University         NaN  \n",
      "R.J. Hunter                  Georgia State   1148640.0  \n",
      "Jonas Jerebko                          NaN   5000000.0  \n",
      "Amir Johnson                           NaN  12000000.0  \n",
      "Jordan Mickey                          LSU   1170960.0  \n",
      "Kelly Olynyk                       Gonzaga   2165160.0  \n",
      "Terry Rozier                    Louisville   1824360.0  \n",
      "Marcus Smart                Oklahoma State   3431040.0  \n",
      "Jared Sullinger                 Ohio State   2569260.0  \n",
      "Isaiah Thomas                   Washington   6912869.0  \n",
      "Evan Turner                     Ohio State   3425510.0  \n",
      "James Young                       Kentucky   1749840.0  \n",
      "Tyler Zeller                North Carolina   2616975.0  \n",
      "Bojan Bogdanovic                       NaN   3425510.0  \n",
      "Markel Brown                Oklahoma State    845059.0  \n",
      "Wayne Ellington             North Carolina   1500000.0  \n",
      "Rondae Hollis-Jefferson            Arizona   1335480.0  \n",
      "Jarrett Jack                  Georgia Tech   6300000.0  \n",
      "Sergey Karasev                         NaN   1599840.0  \n",
      "Sean Kilpatrick                 Cincinnati    134215.0  \n",
      "Shane Larkin                    Miami (FL)   1500000.0  \n",
      "Brook Lopez                       Stanford  19689000.0  \n",
      "Chris McCullough                  Syracuse   1140240.0  \n",
      "Willie Reed                    Saint Louis    947276.0  \n"
     ]
    }
   ],
   "source": [
    "import pandas as pd\n",
    "data = pd.read_csv(r\"C:\\Gagan\\Programming\\Pyhton Projects\\myexcel.csv\", index_col=\"Name\")\n",
    "print(data.head(26))"
   ]
  },
  {
   "cell_type": "code",
   "execution_count": 23,
   "id": "5f871138",
   "metadata": {},
   "outputs": [
    {
     "name": "stdout",
     "output_type": "stream",
     "text": [
      "     Name  Age    Address Qualification  Mobile No\n",
      "0     Jai   27     Nagpur           Msc         97\n",
      "1  Princi   24     Kanpur            MA         91\n",
      "2  Gaurav   22  Allahabad           MCA         58\n",
      "3    Anuj   32    Kannuaj           Phd         76 \n",
      "\n",
      "      Name  Age    Address Qualification  Salary\n",
      "2  Gaurav   22  Allahabad           MCA    1000\n",
      "3    Anuj   32    Kannuaj           Phd    2000\n",
      "6  Dhiraj   12  Allahabad          Bcom    3000\n",
      "7  Hitesh   52    Kannuaj        B.hons    4000\n",
      "----------------------------------------------------------------------------------------------------\n",
      "     Name  Age    Address Qualification  Mobile No  Salary\n",
      "0     Jai   27     Nagpur           Msc       97.0     NaN\n",
      "1  Princi   24     Kanpur            MA       91.0     NaN\n",
      "2  Gaurav   22  Allahabad           MCA       58.0     NaN\n",
      "3    Anuj   32    Kannuaj           Phd       76.0     NaN\n",
      "2  Gaurav   22  Allahabad           MCA        NaN  1000.0\n",
      "3    Anuj   32    Kannuaj           Phd        NaN  2000.0\n",
      "6  Dhiraj   12  Allahabad          Bcom        NaN  3000.0\n",
      "7  Hitesh   52    Kannuaj        B.hons        NaN  4000.0\n"
     ]
    }
   ],
   "source": [
    "# importing pandas module\n",
    "import pandas as pd\n",
    "\n",
    "# Define a dictionary containing employee data\n",
    "data1 = {'Name': ['Jai', 'Princi', 'Gaurav', 'Anuj'],\n",
    "         'Age': [27, 24, 22, 32],\n",
    "         'Address': ['Nagpur', 'Kanpur', 'Allahabad', 'Kannuaj'],\n",
    "         'Qualification': ['Msc', 'MA', 'MCA', 'Phd'],\n",
    "         'Mobile No': [97, 91, 58, 76]}\n",
    "\n",
    "# Define a dictionary containing employee data\n",
    "data2 = {'Name': ['Gaurav', 'Anuj', 'Dhiraj', 'Hitesh'],\n",
    "         'Age': [22, 32, 12, 52],\n",
    "         'Address': ['Allahabad', 'Kannuaj', 'Allahabad', 'Kannuaj'],\n",
    "         'Qualification': ['MCA', 'Phd', 'Bcom', 'B.hons'],\n",
    "         'Salary': [1000, 2000, 3000, 4000]}\n",
    "\n",
    "# Convert the dictionary into DataFrame\n",
    "df = pd.DataFrame(data1, index=[0, 1, 2, 3 ])\n",
    "\n",
    "# Convert the dictionary into DataFrame\n",
    "df1 = pd.DataFrame(data2, index=[2, 3, 6, 7])\n",
    "\n",
    "print(df, \"\\n\\n\", df1)\n",
    "# using a .concat() method\n",
    "frames = [df, df1]\n",
    "print(\"-\"*100)\n",
    "res1 = pd.concat(frames)\n",
    "print(res1)"
   ]
  }
 ],
 "metadata": {
  "kernelspec": {
   "display_name": "Python 3 (ipykernel)",
   "language": "python",
   "name": "python3"
  },
  "language_info": {
   "codemirror_mode": {
    "name": "ipython",
    "version": 3
   },
   "file_extension": ".py",
   "mimetype": "text/x-python",
   "name": "python",
   "nbconvert_exporter": "python",
   "pygments_lexer": "ipython3",
   "version": "3.9.7"
  }
 },
 "nbformat": 4,
 "nbformat_minor": 5
}
