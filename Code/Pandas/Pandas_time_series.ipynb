{
 "cells": [
  {
   "cell_type": "code",
   "execution_count": 1,
   "id": "ca75a96d",
   "metadata": {},
   "outputs": [
    {
     "name": "stdout",
     "output_type": "stream",
     "text": [
      "DatetimeIndex(['2019-01-01 00:00:00', '2019-01-01 00:01:00',\n",
      "               '2019-01-01 00:02:00', '2019-01-01 00:03:00',\n",
      "               '2019-01-01 00:04:00', '2019-01-01 00:05:00',\n",
      "               '2019-01-01 00:06:00', '2019-01-01 00:07:00',\n",
      "               '2019-01-01 00:08:00', '2019-01-01 00:09:00',\n",
      "               ...\n",
      "               '2019-01-07 23:51:00', '2019-01-07 23:52:00',\n",
      "               '2019-01-07 23:53:00', '2019-01-07 23:54:00',\n",
      "               '2019-01-07 23:55:00', '2019-01-07 23:56:00',\n",
      "               '2019-01-07 23:57:00', '2019-01-07 23:58:00',\n",
      "               '2019-01-07 23:59:00', '2019-01-08 00:00:00'],\n",
      "              dtype='datetime64[ns]', length=10081, freq='T')\n"
     ]
    }
   ],
   "source": [
    "import pandas as pd\n",
    "from datetime import datetime\n",
    "import numpy as np\n",
    "\n",
    "range_date = pd.date_range(start='1/1/2019', end='1/08/2019',\n",
    "                           freq='Min')\n",
    "print(range_date)"
   ]
  }
 ],
 "metadata": {
  "kernelspec": {
   "display_name": "Python 3 (ipykernel)",
   "language": "python",
   "name": "python3"
  },
  "language_info": {
   "codemirror_mode": {
    "name": "ipython",
    "version": 3
   },
   "file_extension": ".py",
   "mimetype": "text/x-python",
   "name": "python",
   "nbconvert_exporter": "python",
   "pygments_lexer": "ipython3",
   "version": "3.9.7"
  }
 },
 "nbformat": 4,
 "nbformat_minor": 5
}
